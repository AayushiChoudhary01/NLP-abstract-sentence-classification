{
  "cells": [
    {
      "cell_type": "markdown",
      "metadata": {
        "id": "view-in-github",
        "colab_type": "text"
      },
      "source": [
        "<a href=\"https://colab.research.google.com/github/AayushiChoudhary01/NLP-abstract-sentence-classification/blob/main/abstract_sentence_classification.ipynb\" target=\"_parent\"><img src=\"https://colab.research.google.com/assets/colab-badge.svg\" alt=\"Open In Colab\"/></a>"
      ]
    },
    {
      "cell_type": "code",
      "execution_count": 2,
      "metadata": {
        "id": "jt4f7fgA1Q-y"
      },
      "outputs": [],
      "source": [
        "import pandas as pd\n",
        "import matplotlib.pyplot as plt\n",
        "import tensorflow as tf\n",
        "from tensorflow.keras.layers import Input, Dense, Conv1D, GlobalAveragePooling1D, GlobalMaxPool1D, Bidirectional, LSTM, Concatenate, Dropout\n",
        "import numpy as np\n",
        "from tensorflow.data import Dataset\n",
        "from tensorflow.keras import Model\n",
        "import string\n",
        "from tensorflow.keras.utils import plot_model\n",
        "\n"
      ]
    },
    {
      "cell_type": "markdown",
      "metadata": {
        "id": "-TpyxIFo1WCx"
      },
      "source": [
        "## Downloading the data"
      ]
    },
    {
      "cell_type": "code",
      "execution_count": 3,
      "metadata": {
        "colab": {
          "base_uri": "https://localhost:8080/"
        },
        "id": "VpKnONmI1awz",
        "outputId": "344f99a9-0c05-418d-d682-3bc9535f9518"
      },
      "outputs": [
        {
          "output_type": "stream",
          "name": "stdout",
          "text": [
            "Cloning into 'pubmed-rct'...\n",
            "remote: Enumerating objects: 39, done.\u001b[K\n",
            "remote: Counting objects: 100% (14/14), done.\u001b[K\n",
            "remote: Compressing objects: 100% (9/9), done.\u001b[K\n",
            "remote: Total 39 (delta 8), reused 5 (delta 5), pack-reused 25\u001b[K\n",
            "Receiving objects: 100% (39/39), 177.08 MiB | 37.58 MiB/s, done.\n",
            "Resolving deltas: 100% (15/15), done.\n",
            "Updating files: 100% (13/13), done.\n",
            "PubMed_200k_RCT\t\t\t\t       PubMed_20k_RCT_numbers_replaced_with_at_sign\n",
            "PubMed_200k_RCT_numbers_replaced_with_at_sign  README.md\n",
            "PubMed_20k_RCT\n"
          ]
        }
      ],
      "source": [
        "!git clone https://github.com/Franck-Dernoncourt/pubmed-rct\n",
        "!ls pubmed-rct"
      ]
    },
    {
      "cell_type": "code",
      "execution_count": 4,
      "metadata": {
        "id": "eUzpB2Qe91ev"
      },
      "outputs": [],
      "source": [
        "data_directory = \"/content/pubmed-rct/PubMed_20k_RCT_numbers_replaced_with_at_sign/\""
      ]
    },
    {
      "cell_type": "code",
      "execution_count": 5,
      "metadata": {
        "colab": {
          "base_uri": "https://localhost:8080/"
        },
        "id": "5QGJBV94m_1k",
        "outputId": "bdc3ae47-228b-417e-cb02-8a89c872b970"
      },
      "outputs": [
        {
          "output_type": "execute_result",
          "data": {
            "text/plain": [
              "['/content/pubmed-rct/PubMed_20k_RCT_numbers_replaced_with_at_sign/dev.txt',\n",
              " '/content/pubmed-rct/PubMed_20k_RCT_numbers_replaced_with_at_sign/train.txt',\n",
              " '/content/pubmed-rct/PubMed_20k_RCT_numbers_replaced_with_at_sign/test.txt']"
            ]
          },
          "metadata": {},
          "execution_count": 5
        }
      ],
      "source": [
        "import os\n",
        "filenames = [data_directory + filename for filename in os.listdir(data_directory)]\n",
        "filenames"
      ]
    },
    {
      "cell_type": "code",
      "execution_count": 6,
      "metadata": {
        "id": "cMP7HAfcnXJI"
      },
      "outputs": [],
      "source": [
        "def read_lines(filepath):\n",
        " with open(filepath,\"r\") as f:\n",
        "  return f.readlines()"
      ]
    },
    {
      "cell_type": "code",
      "execution_count": 7,
      "metadata": {
        "id": "4hVqSLmqoDHV"
      },
      "outputs": [],
      "source": [
        "train_sentences = read_lines(data_directory + \"train.txt\")"
      ]
    },
    {
      "cell_type": "code",
      "execution_count": 8,
      "metadata": {
        "colab": {
          "base_uri": "https://localhost:8080/"
        },
        "id": "LcYZPvg7oOHa",
        "outputId": "fe3cf395-3153-42c1-ba21-d51d0c61b741"
      },
      "outputs": [
        {
          "output_type": "execute_result",
          "data": {
            "text/plain": [
              "['###24293578\\n',\n",
              " 'OBJECTIVE\\tTo investigate the efficacy of @ weeks of daily low-dose oral prednisolone in improving pain , mobility , and systemic low-grade inflammation in the short term and whether the effect would be sustained at @ weeks in older adults with moderate to severe knee osteoarthritis ( OA ) .\\n',\n",
              " 'METHODS\\tA total of @ patients with primary knee OA were randomized @:@ ; @ received @ mg/day of prednisolone and @ received placebo for @ weeks .\\n',\n",
              " 'METHODS\\tOutcome measures included pain reduction and improvement in function scores and systemic inflammation markers .\\n',\n",
              " 'METHODS\\tPain was assessed using the visual analog pain scale ( @-@ mm ) .\\n',\n",
              " 'METHODS\\tSecondary outcome measures included the Western Ontario and McMaster Universities Osteoarthritis Index scores , patient global assessment ( PGA ) of the severity of knee OA , and @-min walk distance ( @MWD ) .\\n',\n",
              " 'METHODS\\tSerum levels of interleukin @ ( IL-@ ) , IL-@ , tumor necrosis factor ( TNF ) - , and high-sensitivity C-reactive protein ( hsCRP ) were measured .\\n',\n",
              " 'RESULTS\\tThere was a clinically relevant reduction in the intervention group compared to the placebo group for knee pain , physical function , PGA , and @MWD at @ weeks .\\n',\n",
              " 'RESULTS\\tThe mean difference between treatment arms ( @ % CI ) was @ ( @-@ @ ) , p < @ ; @ ( @-@ @ ) , p < @ ; @ ( @-@ @ ) , p < @ ; and @ ( @-@ @ ) , p < @ , respectively .\\n',\n",
              " 'RESULTS\\tFurther , there was a clinically relevant reduction in the serum levels of IL-@ , IL-@ , TNF - , and hsCRP at @ weeks in the intervention group when compared to the placebo group .\\n',\n",
              " 'RESULTS\\tThese differences remained significant at @ weeks .\\n',\n",
              " 'RESULTS\\tThe Outcome Measures in Rheumatology Clinical Trials-Osteoarthritis Research Society International responder rate was @ % in the intervention group and @ % in the placebo group ( p < @ ) .\\n',\n",
              " 'CONCLUSIONS\\tLow-dose oral prednisolone had both a short-term and a longer sustained effect resulting in less knee pain , better physical function , and attenuation of systemic inflammation in older patients with knee OA ( ClinicalTrials.gov identifier NCT@ ) .\\n',\n",
              " '\\n',\n",
              " '###24854809\\n']"
            ]
          },
          "metadata": {},
          "execution_count": 8
        }
      ],
      "source": [
        "train_sentences[:15]"
      ]
    },
    {
      "cell_type": "markdown",
      "metadata": {
        "id": "ueA_E-78dhU8"
      },
      "source": [
        "## Preprocessing & Visualizing the data"
      ]
    },
    {
      "cell_type": "code",
      "execution_count": 9,
      "metadata": {
        "id": "nCrMZTtaoPuL"
      },
      "outputs": [],
      "source": [
        "def preprocess_text_with_line_numbers(filepath):\n",
        "  input_sentences = read_lines(filepath)\n",
        "  abstract_lines = \"\"\n",
        "  abstract_samples = []\n",
        "\n",
        "  for line in input_sentences:\n",
        "    if line.startswith(\"###\"):\n",
        "      abstract_id = line\n",
        "      abstract_lines = \"\"\n",
        "    elif line.isspace():\n",
        "      abstract_line_split = abstract_lines.splitlines()\n",
        "      for abstract_line_number, abstract_line in enumerate(abstract_line_split):\n",
        "       line_data = {}\n",
        "       target_text_split = abstract_line.split(\"\\t\")\n",
        "       line_data[\"target\"] = target_text_split[0]\n",
        "       line_data[\"text\"] = target_text_split[1].lower()\n",
        "       line_data[\"line_number\"]= abstract_line_number\n",
        "       line_data[\"total_lines\"] = len(abstract_line_split)-1\n",
        "       abstract_samples.append(line_data)\n",
        "    else:\n",
        "     abstract_lines+=line\n",
        "\n",
        "  return abstract_samples"
      ]
    },
    {
      "cell_type": "code",
      "execution_count": 10,
      "metadata": {
        "id": "eexdZaSPatUR"
      },
      "outputs": [],
      "source": [
        "training_set = preprocess_text_with_line_numbers(data_directory + \"train.txt\")\n",
        "validation_set = preprocess_text_with_line_numbers(data_directory + \"dev.txt\")\n",
        "test_set = preprocess_text_with_line_numbers(data_directory + \"test.txt\")"
      ]
    },
    {
      "cell_type": "code",
      "execution_count": 11,
      "metadata": {
        "colab": {
          "base_uri": "https://localhost:8080/"
        },
        "id": "YwlNWq9kdIhv",
        "outputId": "297e5f36-82f8-4a71-c24c-eca416f0eb82"
      },
      "outputs": [
        {
          "output_type": "stream",
          "name": "stdout",
          "text": [
            "180040\n",
            "30212\n",
            "30135\n"
          ]
        }
      ],
      "source": [
        "print(len(training_set))\n",
        "print(len(validation_set))\n",
        "print(len(test_set))"
      ]
    },
    {
      "cell_type": "code",
      "execution_count": 12,
      "metadata": {
        "colab": {
          "base_uri": "https://localhost:8080/"
        },
        "id": "LvhxkeChiYil",
        "outputId": "07e66a94-50b9-421f-891f-854fc0cc8563"
      },
      "outputs": [
        {
          "output_type": "execute_result",
          "data": {
            "text/plain": [
              "[{'target': 'OBJECTIVE',\n",
              "  'text': 'to investigate the efficacy of @ weeks of daily low-dose oral prednisolone in improving pain , mobility , and systemic low-grade inflammation in the short term and whether the effect would be sustained at @ weeks in older adults with moderate to severe knee osteoarthritis ( oa ) .',\n",
              "  'line_number': 0,\n",
              "  'total_lines': 11},\n",
              " {'target': 'METHODS',\n",
              "  'text': 'a total of @ patients with primary knee oa were randomized @:@ ; @ received @ mg/day of prednisolone and @ received placebo for @ weeks .',\n",
              "  'line_number': 1,\n",
              "  'total_lines': 11},\n",
              " {'target': 'METHODS',\n",
              "  'text': 'outcome measures included pain reduction and improvement in function scores and systemic inflammation markers .',\n",
              "  'line_number': 2,\n",
              "  'total_lines': 11},\n",
              " {'target': 'METHODS',\n",
              "  'text': 'pain was assessed using the visual analog pain scale ( @-@ mm ) .',\n",
              "  'line_number': 3,\n",
              "  'total_lines': 11},\n",
              " {'target': 'METHODS',\n",
              "  'text': 'secondary outcome measures included the western ontario and mcmaster universities osteoarthritis index scores , patient global assessment ( pga ) of the severity of knee oa , and @-min walk distance ( @mwd ) .',\n",
              "  'line_number': 4,\n",
              "  'total_lines': 11},\n",
              " {'target': 'METHODS',\n",
              "  'text': 'serum levels of interleukin @ ( il-@ ) , il-@ , tumor necrosis factor ( tnf ) - , and high-sensitivity c-reactive protein ( hscrp ) were measured .',\n",
              "  'line_number': 5,\n",
              "  'total_lines': 11},\n",
              " {'target': 'RESULTS',\n",
              "  'text': 'there was a clinically relevant reduction in the intervention group compared to the placebo group for knee pain , physical function , pga , and @mwd at @ weeks .',\n",
              "  'line_number': 6,\n",
              "  'total_lines': 11},\n",
              " {'target': 'RESULTS',\n",
              "  'text': 'the mean difference between treatment arms ( @ % ci ) was @ ( @-@ @ ) , p < @ ; @ ( @-@ @ ) , p < @ ; @ ( @-@ @ ) , p < @ ; and @ ( @-@ @ ) , p < @ , respectively .',\n",
              "  'line_number': 7,\n",
              "  'total_lines': 11},\n",
              " {'target': 'RESULTS',\n",
              "  'text': 'further , there was a clinically relevant reduction in the serum levels of il-@ , il-@ , tnf - , and hscrp at @ weeks in the intervention group when compared to the placebo group .',\n",
              "  'line_number': 8,\n",
              "  'total_lines': 11},\n",
              " {'target': 'RESULTS',\n",
              "  'text': 'these differences remained significant at @ weeks .',\n",
              "  'line_number': 9,\n",
              "  'total_lines': 11}]"
            ]
          },
          "metadata": {},
          "execution_count": 12
        }
      ],
      "source": [
        "training_set[:10]"
      ]
    },
    {
      "cell_type": "code",
      "execution_count": 13,
      "metadata": {
        "id": "pbOPW-f2iUdb"
      },
      "outputs": [],
      "source": [
        "train_df = pd.DataFrame(training_set)\n",
        "validation_df = pd.DataFrame(validation_set)\n",
        "test_df = pd.DataFrame(test_set)"
      ]
    },
    {
      "cell_type": "code",
      "execution_count": 14,
      "metadata": {
        "colab": {
          "base_uri": "https://localhost:8080/",
          "height": 362
        },
        "id": "OcAzclN2jnDl",
        "outputId": "c4464f35-c283-4639-c09d-1b02a96960bb"
      },
      "outputs": [
        {
          "output_type": "execute_result",
          "data": {
            "text/plain": [
              "      target                                               text  line_number  \\\n",
              "0  OBJECTIVE  to investigate the efficacy of @ weeks of dail...            0   \n",
              "1    METHODS  a total of @ patients with primary knee oa wer...            1   \n",
              "2    METHODS  outcome measures included pain reduction and i...            2   \n",
              "3    METHODS  pain was assessed using the visual analog pain...            3   \n",
              "4    METHODS  secondary outcome measures included the wester...            4   \n",
              "5    METHODS  serum levels of interleukin @ ( il-@ ) , il-@ ...            5   \n",
              "6    RESULTS  there was a clinically relevant reduction in t...            6   \n",
              "7    RESULTS  the mean difference between treatment arms ( @...            7   \n",
              "8    RESULTS  further , there was a clinically relevant redu...            8   \n",
              "9    RESULTS  these differences remained significant at @ we...            9   \n",
              "\n",
              "   total_lines  \n",
              "0           11  \n",
              "1           11  \n",
              "2           11  \n",
              "3           11  \n",
              "4           11  \n",
              "5           11  \n",
              "6           11  \n",
              "7           11  \n",
              "8           11  \n",
              "9           11  "
            ],
            "text/html": [
              "\n",
              "  <div id=\"df-e155c47c-8e4f-4513-8755-87239bb602dd\" class=\"colab-df-container\">\n",
              "    <div>\n",
              "<style scoped>\n",
              "    .dataframe tbody tr th:only-of-type {\n",
              "        vertical-align: middle;\n",
              "    }\n",
              "\n",
              "    .dataframe tbody tr th {\n",
              "        vertical-align: top;\n",
              "    }\n",
              "\n",
              "    .dataframe thead th {\n",
              "        text-align: right;\n",
              "    }\n",
              "</style>\n",
              "<table border=\"1\" class=\"dataframe\">\n",
              "  <thead>\n",
              "    <tr style=\"text-align: right;\">\n",
              "      <th></th>\n",
              "      <th>target</th>\n",
              "      <th>text</th>\n",
              "      <th>line_number</th>\n",
              "      <th>total_lines</th>\n",
              "    </tr>\n",
              "  </thead>\n",
              "  <tbody>\n",
              "    <tr>\n",
              "      <th>0</th>\n",
              "      <td>OBJECTIVE</td>\n",
              "      <td>to investigate the efficacy of @ weeks of dail...</td>\n",
              "      <td>0</td>\n",
              "      <td>11</td>\n",
              "    </tr>\n",
              "    <tr>\n",
              "      <th>1</th>\n",
              "      <td>METHODS</td>\n",
              "      <td>a total of @ patients with primary knee oa wer...</td>\n",
              "      <td>1</td>\n",
              "      <td>11</td>\n",
              "    </tr>\n",
              "    <tr>\n",
              "      <th>2</th>\n",
              "      <td>METHODS</td>\n",
              "      <td>outcome measures included pain reduction and i...</td>\n",
              "      <td>2</td>\n",
              "      <td>11</td>\n",
              "    </tr>\n",
              "    <tr>\n",
              "      <th>3</th>\n",
              "      <td>METHODS</td>\n",
              "      <td>pain was assessed using the visual analog pain...</td>\n",
              "      <td>3</td>\n",
              "      <td>11</td>\n",
              "    </tr>\n",
              "    <tr>\n",
              "      <th>4</th>\n",
              "      <td>METHODS</td>\n",
              "      <td>secondary outcome measures included the wester...</td>\n",
              "      <td>4</td>\n",
              "      <td>11</td>\n",
              "    </tr>\n",
              "    <tr>\n",
              "      <th>5</th>\n",
              "      <td>METHODS</td>\n",
              "      <td>serum levels of interleukin @ ( il-@ ) , il-@ ...</td>\n",
              "      <td>5</td>\n",
              "      <td>11</td>\n",
              "    </tr>\n",
              "    <tr>\n",
              "      <th>6</th>\n",
              "      <td>RESULTS</td>\n",
              "      <td>there was a clinically relevant reduction in t...</td>\n",
              "      <td>6</td>\n",
              "      <td>11</td>\n",
              "    </tr>\n",
              "    <tr>\n",
              "      <th>7</th>\n",
              "      <td>RESULTS</td>\n",
              "      <td>the mean difference between treatment arms ( @...</td>\n",
              "      <td>7</td>\n",
              "      <td>11</td>\n",
              "    </tr>\n",
              "    <tr>\n",
              "      <th>8</th>\n",
              "      <td>RESULTS</td>\n",
              "      <td>further , there was a clinically relevant redu...</td>\n",
              "      <td>8</td>\n",
              "      <td>11</td>\n",
              "    </tr>\n",
              "    <tr>\n",
              "      <th>9</th>\n",
              "      <td>RESULTS</td>\n",
              "      <td>these differences remained significant at @ we...</td>\n",
              "      <td>9</td>\n",
              "      <td>11</td>\n",
              "    </tr>\n",
              "  </tbody>\n",
              "</table>\n",
              "</div>\n",
              "    <div class=\"colab-df-buttons\">\n",
              "\n",
              "  <div class=\"colab-df-container\">\n",
              "    <button class=\"colab-df-convert\" onclick=\"convertToInteractive('df-e155c47c-8e4f-4513-8755-87239bb602dd')\"\n",
              "            title=\"Convert this dataframe to an interactive table.\"\n",
              "            style=\"display:none;\">\n",
              "\n",
              "  <svg xmlns=\"http://www.w3.org/2000/svg\" height=\"24px\" viewBox=\"0 -960 960 960\">\n",
              "    <path d=\"M120-120v-720h720v720H120Zm60-500h600v-160H180v160Zm220 220h160v-160H400v160Zm0 220h160v-160H400v160ZM180-400h160v-160H180v160Zm440 0h160v-160H620v160ZM180-180h160v-160H180v160Zm440 0h160v-160H620v160Z\"/>\n",
              "  </svg>\n",
              "    </button>\n",
              "\n",
              "  <style>\n",
              "    .colab-df-container {\n",
              "      display:flex;\n",
              "      gap: 12px;\n",
              "    }\n",
              "\n",
              "    .colab-df-convert {\n",
              "      background-color: #E8F0FE;\n",
              "      border: none;\n",
              "      border-radius: 50%;\n",
              "      cursor: pointer;\n",
              "      display: none;\n",
              "      fill: #1967D2;\n",
              "      height: 32px;\n",
              "      padding: 0 0 0 0;\n",
              "      width: 32px;\n",
              "    }\n",
              "\n",
              "    .colab-df-convert:hover {\n",
              "      background-color: #E2EBFA;\n",
              "      box-shadow: 0px 1px 2px rgba(60, 64, 67, 0.3), 0px 1px 3px 1px rgba(60, 64, 67, 0.15);\n",
              "      fill: #174EA6;\n",
              "    }\n",
              "\n",
              "    .colab-df-buttons div {\n",
              "      margin-bottom: 4px;\n",
              "    }\n",
              "\n",
              "    [theme=dark] .colab-df-convert {\n",
              "      background-color: #3B4455;\n",
              "      fill: #D2E3FC;\n",
              "    }\n",
              "\n",
              "    [theme=dark] .colab-df-convert:hover {\n",
              "      background-color: #434B5C;\n",
              "      box-shadow: 0px 1px 3px 1px rgba(0, 0, 0, 0.15);\n",
              "      filter: drop-shadow(0px 1px 2px rgba(0, 0, 0, 0.3));\n",
              "      fill: #FFFFFF;\n",
              "    }\n",
              "  </style>\n",
              "\n",
              "    <script>\n",
              "      const buttonEl =\n",
              "        document.querySelector('#df-e155c47c-8e4f-4513-8755-87239bb602dd button.colab-df-convert');\n",
              "      buttonEl.style.display =\n",
              "        google.colab.kernel.accessAllowed ? 'block' : 'none';\n",
              "\n",
              "      async function convertToInteractive(key) {\n",
              "        const element = document.querySelector('#df-e155c47c-8e4f-4513-8755-87239bb602dd');\n",
              "        const dataTable =\n",
              "          await google.colab.kernel.invokeFunction('convertToInteractive',\n",
              "                                                    [key], {});\n",
              "        if (!dataTable) return;\n",
              "\n",
              "        const docLinkHtml = 'Like what you see? Visit the ' +\n",
              "          '<a target=\"_blank\" href=https://colab.research.google.com/notebooks/data_table.ipynb>data table notebook</a>'\n",
              "          + ' to learn more about interactive tables.';\n",
              "        element.innerHTML = '';\n",
              "        dataTable['output_type'] = 'display_data';\n",
              "        await google.colab.output.renderOutput(dataTable, element);\n",
              "        const docLink = document.createElement('div');\n",
              "        docLink.innerHTML = docLinkHtml;\n",
              "        element.appendChild(docLink);\n",
              "      }\n",
              "    </script>\n",
              "  </div>\n",
              "\n",
              "\n",
              "<div id=\"df-2bb5d21a-3398-4c26-809a-33c88ac18430\">\n",
              "  <button class=\"colab-df-quickchart\" onclick=\"quickchart('df-2bb5d21a-3398-4c26-809a-33c88ac18430')\"\n",
              "            title=\"Suggest charts\"\n",
              "            style=\"display:none;\">\n",
              "\n",
              "<svg xmlns=\"http://www.w3.org/2000/svg\" height=\"24px\"viewBox=\"0 0 24 24\"\n",
              "     width=\"24px\">\n",
              "    <g>\n",
              "        <path d=\"M19 3H5c-1.1 0-2 .9-2 2v14c0 1.1.9 2 2 2h14c1.1 0 2-.9 2-2V5c0-1.1-.9-2-2-2zM9 17H7v-7h2v7zm4 0h-2V7h2v10zm4 0h-2v-4h2v4z\"/>\n",
              "    </g>\n",
              "</svg>\n",
              "  </button>\n",
              "\n",
              "<style>\n",
              "  .colab-df-quickchart {\n",
              "      --bg-color: #E8F0FE;\n",
              "      --fill-color: #1967D2;\n",
              "      --hover-bg-color: #E2EBFA;\n",
              "      --hover-fill-color: #174EA6;\n",
              "      --disabled-fill-color: #AAA;\n",
              "      --disabled-bg-color: #DDD;\n",
              "  }\n",
              "\n",
              "  [theme=dark] .colab-df-quickchart {\n",
              "      --bg-color: #3B4455;\n",
              "      --fill-color: #D2E3FC;\n",
              "      --hover-bg-color: #434B5C;\n",
              "      --hover-fill-color: #FFFFFF;\n",
              "      --disabled-bg-color: #3B4455;\n",
              "      --disabled-fill-color: #666;\n",
              "  }\n",
              "\n",
              "  .colab-df-quickchart {\n",
              "    background-color: var(--bg-color);\n",
              "    border: none;\n",
              "    border-radius: 50%;\n",
              "    cursor: pointer;\n",
              "    display: none;\n",
              "    fill: var(--fill-color);\n",
              "    height: 32px;\n",
              "    padding: 0;\n",
              "    width: 32px;\n",
              "  }\n",
              "\n",
              "  .colab-df-quickchart:hover {\n",
              "    background-color: var(--hover-bg-color);\n",
              "    box-shadow: 0 1px 2px rgba(60, 64, 67, 0.3), 0 1px 3px 1px rgba(60, 64, 67, 0.15);\n",
              "    fill: var(--button-hover-fill-color);\n",
              "  }\n",
              "\n",
              "  .colab-df-quickchart-complete:disabled,\n",
              "  .colab-df-quickchart-complete:disabled:hover {\n",
              "    background-color: var(--disabled-bg-color);\n",
              "    fill: var(--disabled-fill-color);\n",
              "    box-shadow: none;\n",
              "  }\n",
              "\n",
              "  .colab-df-spinner {\n",
              "    border: 2px solid var(--fill-color);\n",
              "    border-color: transparent;\n",
              "    border-bottom-color: var(--fill-color);\n",
              "    animation:\n",
              "      spin 1s steps(1) infinite;\n",
              "  }\n",
              "\n",
              "  @keyframes spin {\n",
              "    0% {\n",
              "      border-color: transparent;\n",
              "      border-bottom-color: var(--fill-color);\n",
              "      border-left-color: var(--fill-color);\n",
              "    }\n",
              "    20% {\n",
              "      border-color: transparent;\n",
              "      border-left-color: var(--fill-color);\n",
              "      border-top-color: var(--fill-color);\n",
              "    }\n",
              "    30% {\n",
              "      border-color: transparent;\n",
              "      border-left-color: var(--fill-color);\n",
              "      border-top-color: var(--fill-color);\n",
              "      border-right-color: var(--fill-color);\n",
              "    }\n",
              "    40% {\n",
              "      border-color: transparent;\n",
              "      border-right-color: var(--fill-color);\n",
              "      border-top-color: var(--fill-color);\n",
              "    }\n",
              "    60% {\n",
              "      border-color: transparent;\n",
              "      border-right-color: var(--fill-color);\n",
              "    }\n",
              "    80% {\n",
              "      border-color: transparent;\n",
              "      border-right-color: var(--fill-color);\n",
              "      border-bottom-color: var(--fill-color);\n",
              "    }\n",
              "    90% {\n",
              "      border-color: transparent;\n",
              "      border-bottom-color: var(--fill-color);\n",
              "    }\n",
              "  }\n",
              "</style>\n",
              "\n",
              "  <script>\n",
              "    async function quickchart(key) {\n",
              "      const quickchartButtonEl =\n",
              "        document.querySelector('#' + key + ' button');\n",
              "      quickchartButtonEl.disabled = true;  // To prevent multiple clicks.\n",
              "      quickchartButtonEl.classList.add('colab-df-spinner');\n",
              "      try {\n",
              "        const charts = await google.colab.kernel.invokeFunction(\n",
              "            'suggestCharts', [key], {});\n",
              "      } catch (error) {\n",
              "        console.error('Error during call to suggestCharts:', error);\n",
              "      }\n",
              "      quickchartButtonEl.classList.remove('colab-df-spinner');\n",
              "      quickchartButtonEl.classList.add('colab-df-quickchart-complete');\n",
              "    }\n",
              "    (() => {\n",
              "      let quickchartButtonEl =\n",
              "        document.querySelector('#df-2bb5d21a-3398-4c26-809a-33c88ac18430 button');\n",
              "      quickchartButtonEl.style.display =\n",
              "        google.colab.kernel.accessAllowed ? 'block' : 'none';\n",
              "    })();\n",
              "  </script>\n",
              "</div>\n",
              "\n",
              "    </div>\n",
              "  </div>\n"
            ]
          },
          "metadata": {},
          "execution_count": 14
        }
      ],
      "source": [
        "\n",
        "train_df[:10]"
      ]
    },
    {
      "cell_type": "code",
      "execution_count": 15,
      "metadata": {
        "colab": {
          "base_uri": "https://localhost:8080/",
          "height": 206
        },
        "id": "TUfWOvbejpi2",
        "outputId": "ad9ffc85-ff18-4dec-af0d-fbb3018840ce"
      },
      "outputs": [
        {
          "output_type": "execute_result",
          "data": {
            "text/plain": [
              "             target\n",
              "METHODS       59353\n",
              "RESULTS       57953\n",
              "CONCLUSIONS   27168\n",
              "BACKGROUND    21727\n",
              "OBJECTIVE     13839"
            ],
            "text/html": [
              "\n",
              "  <div id=\"df-4ce168bd-8d34-4c45-a7f2-d917334d1251\" class=\"colab-df-container\">\n",
              "    <div>\n",
              "<style scoped>\n",
              "    .dataframe tbody tr th:only-of-type {\n",
              "        vertical-align: middle;\n",
              "    }\n",
              "\n",
              "    .dataframe tbody tr th {\n",
              "        vertical-align: top;\n",
              "    }\n",
              "\n",
              "    .dataframe thead th {\n",
              "        text-align: right;\n",
              "    }\n",
              "</style>\n",
              "<table border=\"1\" class=\"dataframe\">\n",
              "  <thead>\n",
              "    <tr style=\"text-align: right;\">\n",
              "      <th></th>\n",
              "      <th>target</th>\n",
              "    </tr>\n",
              "  </thead>\n",
              "  <tbody>\n",
              "    <tr>\n",
              "      <th>METHODS</th>\n",
              "      <td>59353</td>\n",
              "    </tr>\n",
              "    <tr>\n",
              "      <th>RESULTS</th>\n",
              "      <td>57953</td>\n",
              "    </tr>\n",
              "    <tr>\n",
              "      <th>CONCLUSIONS</th>\n",
              "      <td>27168</td>\n",
              "    </tr>\n",
              "    <tr>\n",
              "      <th>BACKGROUND</th>\n",
              "      <td>21727</td>\n",
              "    </tr>\n",
              "    <tr>\n",
              "      <th>OBJECTIVE</th>\n",
              "      <td>13839</td>\n",
              "    </tr>\n",
              "  </tbody>\n",
              "</table>\n",
              "</div>\n",
              "    <div class=\"colab-df-buttons\">\n",
              "\n",
              "  <div class=\"colab-df-container\">\n",
              "    <button class=\"colab-df-convert\" onclick=\"convertToInteractive('df-4ce168bd-8d34-4c45-a7f2-d917334d1251')\"\n",
              "            title=\"Convert this dataframe to an interactive table.\"\n",
              "            style=\"display:none;\">\n",
              "\n",
              "  <svg xmlns=\"http://www.w3.org/2000/svg\" height=\"24px\" viewBox=\"0 -960 960 960\">\n",
              "    <path d=\"M120-120v-720h720v720H120Zm60-500h600v-160H180v160Zm220 220h160v-160H400v160Zm0 220h160v-160H400v160ZM180-400h160v-160H180v160Zm440 0h160v-160H620v160ZM180-180h160v-160H180v160Zm440 0h160v-160H620v160Z\"/>\n",
              "  </svg>\n",
              "    </button>\n",
              "\n",
              "  <style>\n",
              "    .colab-df-container {\n",
              "      display:flex;\n",
              "      gap: 12px;\n",
              "    }\n",
              "\n",
              "    .colab-df-convert {\n",
              "      background-color: #E8F0FE;\n",
              "      border: none;\n",
              "      border-radius: 50%;\n",
              "      cursor: pointer;\n",
              "      display: none;\n",
              "      fill: #1967D2;\n",
              "      height: 32px;\n",
              "      padding: 0 0 0 0;\n",
              "      width: 32px;\n",
              "    }\n",
              "\n",
              "    .colab-df-convert:hover {\n",
              "      background-color: #E2EBFA;\n",
              "      box-shadow: 0px 1px 2px rgba(60, 64, 67, 0.3), 0px 1px 3px 1px rgba(60, 64, 67, 0.15);\n",
              "      fill: #174EA6;\n",
              "    }\n",
              "\n",
              "    .colab-df-buttons div {\n",
              "      margin-bottom: 4px;\n",
              "    }\n",
              "\n",
              "    [theme=dark] .colab-df-convert {\n",
              "      background-color: #3B4455;\n",
              "      fill: #D2E3FC;\n",
              "    }\n",
              "\n",
              "    [theme=dark] .colab-df-convert:hover {\n",
              "      background-color: #434B5C;\n",
              "      box-shadow: 0px 1px 3px 1px rgba(0, 0, 0, 0.15);\n",
              "      filter: drop-shadow(0px 1px 2px rgba(0, 0, 0, 0.3));\n",
              "      fill: #FFFFFF;\n",
              "    }\n",
              "  </style>\n",
              "\n",
              "    <script>\n",
              "      const buttonEl =\n",
              "        document.querySelector('#df-4ce168bd-8d34-4c45-a7f2-d917334d1251 button.colab-df-convert');\n",
              "      buttonEl.style.display =\n",
              "        google.colab.kernel.accessAllowed ? 'block' : 'none';\n",
              "\n",
              "      async function convertToInteractive(key) {\n",
              "        const element = document.querySelector('#df-4ce168bd-8d34-4c45-a7f2-d917334d1251');\n",
              "        const dataTable =\n",
              "          await google.colab.kernel.invokeFunction('convertToInteractive',\n",
              "                                                    [key], {});\n",
              "        if (!dataTable) return;\n",
              "\n",
              "        const docLinkHtml = 'Like what you see? Visit the ' +\n",
              "          '<a target=\"_blank\" href=https://colab.research.google.com/notebooks/data_table.ipynb>data table notebook</a>'\n",
              "          + ' to learn more about interactive tables.';\n",
              "        element.innerHTML = '';\n",
              "        dataTable['output_type'] = 'display_data';\n",
              "        await google.colab.output.renderOutput(dataTable, element);\n",
              "        const docLink = document.createElement('div');\n",
              "        docLink.innerHTML = docLinkHtml;\n",
              "        element.appendChild(docLink);\n",
              "      }\n",
              "    </script>\n",
              "  </div>\n",
              "\n",
              "\n",
              "<div id=\"df-0936c897-a797-4b09-85e5-c4f0df5f3997\">\n",
              "  <button class=\"colab-df-quickchart\" onclick=\"quickchart('df-0936c897-a797-4b09-85e5-c4f0df5f3997')\"\n",
              "            title=\"Suggest charts\"\n",
              "            style=\"display:none;\">\n",
              "\n",
              "<svg xmlns=\"http://www.w3.org/2000/svg\" height=\"24px\"viewBox=\"0 0 24 24\"\n",
              "     width=\"24px\">\n",
              "    <g>\n",
              "        <path d=\"M19 3H5c-1.1 0-2 .9-2 2v14c0 1.1.9 2 2 2h14c1.1 0 2-.9 2-2V5c0-1.1-.9-2-2-2zM9 17H7v-7h2v7zm4 0h-2V7h2v10zm4 0h-2v-4h2v4z\"/>\n",
              "    </g>\n",
              "</svg>\n",
              "  </button>\n",
              "\n",
              "<style>\n",
              "  .colab-df-quickchart {\n",
              "      --bg-color: #E8F0FE;\n",
              "      --fill-color: #1967D2;\n",
              "      --hover-bg-color: #E2EBFA;\n",
              "      --hover-fill-color: #174EA6;\n",
              "      --disabled-fill-color: #AAA;\n",
              "      --disabled-bg-color: #DDD;\n",
              "  }\n",
              "\n",
              "  [theme=dark] .colab-df-quickchart {\n",
              "      --bg-color: #3B4455;\n",
              "      --fill-color: #D2E3FC;\n",
              "      --hover-bg-color: #434B5C;\n",
              "      --hover-fill-color: #FFFFFF;\n",
              "      --disabled-bg-color: #3B4455;\n",
              "      --disabled-fill-color: #666;\n",
              "  }\n",
              "\n",
              "  .colab-df-quickchart {\n",
              "    background-color: var(--bg-color);\n",
              "    border: none;\n",
              "    border-radius: 50%;\n",
              "    cursor: pointer;\n",
              "    display: none;\n",
              "    fill: var(--fill-color);\n",
              "    height: 32px;\n",
              "    padding: 0;\n",
              "    width: 32px;\n",
              "  }\n",
              "\n",
              "  .colab-df-quickchart:hover {\n",
              "    background-color: var(--hover-bg-color);\n",
              "    box-shadow: 0 1px 2px rgba(60, 64, 67, 0.3), 0 1px 3px 1px rgba(60, 64, 67, 0.15);\n",
              "    fill: var(--button-hover-fill-color);\n",
              "  }\n",
              "\n",
              "  .colab-df-quickchart-complete:disabled,\n",
              "  .colab-df-quickchart-complete:disabled:hover {\n",
              "    background-color: var(--disabled-bg-color);\n",
              "    fill: var(--disabled-fill-color);\n",
              "    box-shadow: none;\n",
              "  }\n",
              "\n",
              "  .colab-df-spinner {\n",
              "    border: 2px solid var(--fill-color);\n",
              "    border-color: transparent;\n",
              "    border-bottom-color: var(--fill-color);\n",
              "    animation:\n",
              "      spin 1s steps(1) infinite;\n",
              "  }\n",
              "\n",
              "  @keyframes spin {\n",
              "    0% {\n",
              "      border-color: transparent;\n",
              "      border-bottom-color: var(--fill-color);\n",
              "      border-left-color: var(--fill-color);\n",
              "    }\n",
              "    20% {\n",
              "      border-color: transparent;\n",
              "      border-left-color: var(--fill-color);\n",
              "      border-top-color: var(--fill-color);\n",
              "    }\n",
              "    30% {\n",
              "      border-color: transparent;\n",
              "      border-left-color: var(--fill-color);\n",
              "      border-top-color: var(--fill-color);\n",
              "      border-right-color: var(--fill-color);\n",
              "    }\n",
              "    40% {\n",
              "      border-color: transparent;\n",
              "      border-right-color: var(--fill-color);\n",
              "      border-top-color: var(--fill-color);\n",
              "    }\n",
              "    60% {\n",
              "      border-color: transparent;\n",
              "      border-right-color: var(--fill-color);\n",
              "    }\n",
              "    80% {\n",
              "      border-color: transparent;\n",
              "      border-right-color: var(--fill-color);\n",
              "      border-bottom-color: var(--fill-color);\n",
              "    }\n",
              "    90% {\n",
              "      border-color: transparent;\n",
              "      border-bottom-color: var(--fill-color);\n",
              "    }\n",
              "  }\n",
              "</style>\n",
              "\n",
              "  <script>\n",
              "    async function quickchart(key) {\n",
              "      const quickchartButtonEl =\n",
              "        document.querySelector('#' + key + ' button');\n",
              "      quickchartButtonEl.disabled = true;  // To prevent multiple clicks.\n",
              "      quickchartButtonEl.classList.add('colab-df-spinner');\n",
              "      try {\n",
              "        const charts = await google.colab.kernel.invokeFunction(\n",
              "            'suggestCharts', [key], {});\n",
              "      } catch (error) {\n",
              "        console.error('Error during call to suggestCharts:', error);\n",
              "      }\n",
              "      quickchartButtonEl.classList.remove('colab-df-spinner');\n",
              "      quickchartButtonEl.classList.add('colab-df-quickchart-complete');\n",
              "    }\n",
              "    (() => {\n",
              "      let quickchartButtonEl =\n",
              "        document.querySelector('#df-0936c897-a797-4b09-85e5-c4f0df5f3997 button');\n",
              "      quickchartButtonEl.style.display =\n",
              "        google.colab.kernel.accessAllowed ? 'block' : 'none';\n",
              "    })();\n",
              "  </script>\n",
              "</div>\n",
              "\n",
              "  <div id=\"id_b0711019-40c1-4693-8822-130097663a84\">\n",
              "    <style>\n",
              "      .colab-df-generate {\n",
              "        background-color: #E8F0FE;\n",
              "        border: none;\n",
              "        border-radius: 50%;\n",
              "        cursor: pointer;\n",
              "        display: none;\n",
              "        fill: #1967D2;\n",
              "        height: 32px;\n",
              "        padding: 0 0 0 0;\n",
              "        width: 32px;\n",
              "      }\n",
              "\n",
              "      .colab-df-generate:hover {\n",
              "        background-color: #E2EBFA;\n",
              "        box-shadow: 0px 1px 2px rgba(60, 64, 67, 0.3), 0px 1px 3px 1px rgba(60, 64, 67, 0.15);\n",
              "        fill: #174EA6;\n",
              "      }\n",
              "\n",
              "      [theme=dark] .colab-df-generate {\n",
              "        background-color: #3B4455;\n",
              "        fill: #D2E3FC;\n",
              "      }\n",
              "\n",
              "      [theme=dark] .colab-df-generate:hover {\n",
              "        background-color: #434B5C;\n",
              "        box-shadow: 0px 1px 3px 1px rgba(0, 0, 0, 0.15);\n",
              "        filter: drop-shadow(0px 1px 2px rgba(0, 0, 0, 0.3));\n",
              "        fill: #FFFFFF;\n",
              "      }\n",
              "    </style>\n",
              "    <button class=\"colab-df-generate\" onclick=\"generateWithVariable('labels_df')\"\n",
              "            title=\"Generate code using this dataframe.\"\n",
              "            style=\"display:none;\">\n",
              "\n",
              "  <svg xmlns=\"http://www.w3.org/2000/svg\" height=\"24px\"viewBox=\"0 0 24 24\"\n",
              "       width=\"24px\">\n",
              "    <path d=\"M7,19H8.4L18.45,9,17,7.55,7,17.6ZM5,21V16.75L18.45,3.32a2,2,0,0,1,2.83,0l1.4,1.43a1.91,1.91,0,0,1,.58,1.4,1.91,1.91,0,0,1-.58,1.4L9.25,21ZM18.45,9,17,7.55Zm-12,3A5.31,5.31,0,0,0,4.9,8.1,5.31,5.31,0,0,0,1,6.5,5.31,5.31,0,0,0,4.9,4.9,5.31,5.31,0,0,0,6.5,1,5.31,5.31,0,0,0,8.1,4.9,5.31,5.31,0,0,0,12,6.5,5.46,5.46,0,0,0,6.5,12Z\"/>\n",
              "  </svg>\n",
              "    </button>\n",
              "    <script>\n",
              "      (() => {\n",
              "      const buttonEl =\n",
              "        document.querySelector('#id_b0711019-40c1-4693-8822-130097663a84 button.colab-df-generate');\n",
              "      buttonEl.style.display =\n",
              "        google.colab.kernel.accessAllowed ? 'block' : 'none';\n",
              "\n",
              "      buttonEl.onclick = () => {\n",
              "        google.colab.notebook.generateWithVariable('labels_df');\n",
              "      }\n",
              "      })();\n",
              "    </script>\n",
              "  </div>\n",
              "\n",
              "    </div>\n",
              "  </div>\n"
            ]
          },
          "metadata": {},
          "execution_count": 15
        }
      ],
      "source": [
        "labels = train_df.target.value_counts()\n",
        "labels_df = pd.DataFrame(labels)\n",
        "labels_df"
      ]
    },
    {
      "cell_type": "code",
      "execution_count": 16,
      "metadata": {
        "colab": {
          "base_uri": "https://localhost:8080/",
          "height": 448
        },
        "id": "SYy0FPwWCuLw",
        "outputId": "8bf75987-0444-48f0-9c0b-2c8a7f65d2eb"
      },
      "outputs": [
        {
          "output_type": "execute_result",
          "data": {
            "text/plain": [
              "<BarContainer object of 5 artists>"
            ]
          },
          "metadata": {},
          "execution_count": 16
        },
        {
          "output_type": "display_data",
          "data": {
            "text/plain": [
              "<Figure size 640x480 with 1 Axes>"
            ],
            "image/png": "[encoded data removed]"
          },
          "metadata": {}
        }
      ],
      "source": [
        "plt.bar(labels_df.index, labels_df['target'])"
      ]
    },
    {
      "cell_type": "code",
      "execution_count": 17,
      "metadata": {
        "id": "xhubb-TokIlV"
      },
      "outputs": [],
      "source": [
        "train_sentences = train_df[\"text\"].tolist()\n",
        "validation_sentences = validation_df[\"text\"].tolist()\n",
        "test_sentences = test_df[\"text\"].tolist()"
      ]
    },
    {
      "cell_type": "markdown",
      "metadata": {
        "id": "kNkOuHWoEk3n"
      },
      "source": [
        "### Converting labels into numeric format"
      ]
    },
    {
      "cell_type": "markdown",
      "metadata": {
        "id": "BXIKKmZNIWWV"
      },
      "source": [
        "###One Hot encoded labels"
      ]
    },
    {
      "cell_type": "code",
      "execution_count": 18,
      "metadata": {
        "colab": {
          "base_uri": "https://localhost:8080/"
        },
        "id": "rk-xheYEk_rq",
        "outputId": "6ccf4ddf-523d-4d25-92eb-8d3c541517eb"
      },
      "outputs": [
        {
          "output_type": "stream",
          "name": "stderr",
          "text": [
            "/usr/local/lib/python3.10/dist-packages/sklearn/preprocessing/_encoders.py:868: FutureWarning: `sparse` was renamed to `sparse_output` in version 1.2 and will be removed in 1.4. `sparse_output` is ignored unless you leave `sparse` to its default value.\n",
            "  warnings.warn(\n"
          ]
        },
        {
          "output_type": "execute_result",
          "data": {
            "text/plain": [
              "array([[0., 0., 0., 1., 0.],\n",
              "       [0., 0., 1., 0., 0.],\n",
              "       [0., 0., 1., 0., 0.],\n",
              "       ...,\n",
              "       [0., 0., 0., 0., 1.],\n",
              "       [0., 1., 0., 0., 0.],\n",
              "       [0., 1., 0., 0., 0.]])"
            ]
          },
          "metadata": {},
          "execution_count": 18
        }
      ],
      "source": [
        "# one hot encode labels\n",
        "from sklearn.preprocessing import OneHotEncoder\n",
        "one_hot_encoder = OneHotEncoder(sparse = False)\n",
        "train_labels_one_hot = one_hot_encoder.fit_transform(train_df[\"target\"].to_numpy().reshape(-1,1))\n",
        "val_labels_one_hot =one_hot_encoder.transform(validation_df[\"target\"].to_numpy().reshape(-1,1))\n",
        "test_labels_one_hot = one_hot_encoder.transform(test_df[\"target\"].to_numpy().reshape(-1,1))\n",
        "train_labels_one_hot"
      ]
    },
    {
      "cell_type": "markdown",
      "metadata": {
        "id": "PwQ0aGx0IioJ"
      },
      "source": [
        "### Label encode labels"
      ]
    },
    {
      "cell_type": "code",
      "execution_count": 19,
      "metadata": {
        "colab": {
          "base_uri": "https://localhost:8080/"
        },
        "id": "9WHe-1qwFlEj",
        "outputId": "8c428fb9-73b8-4242-f1a2-ac0b34ea2686"
      },
      "outputs": [
        {
          "output_type": "execute_result",
          "data": {
            "text/plain": [
              "array([3, 2, 2, ..., 4, 1, 1])"
            ]
          },
          "metadata": {},
          "execution_count": 19
        }
      ],
      "source": [
        "from sklearn.preprocessing import LabelEncoder\n",
        "label_encoder = LabelEncoder()\n",
        "train_labels_encoded = label_encoder.fit_transform(train_df[\"target\"].to_numpy())\n",
        "val_labels_encoded = label_encoder.transform(validation_df[\"target\"].to_numpy())\n",
        "test_labels_encoded = label_encoder.transform(test_df[\"target\"].to_numpy())\n",
        "train_labels_encoded"
      ]
    },
    {
      "cell_type": "code",
      "execution_count": 20,
      "metadata": {
        "colab": {
          "base_uri": "https://localhost:8080/"
        },
        "id": "2YLhFo2yFse7",
        "outputId": "5658a2b0-f81c-4141-b5ae-ae45e76c315a"
      },
      "outputs": [
        {
          "output_type": "execute_result",
          "data": {
            "text/plain": [
              "5"
            ]
          },
          "metadata": {},
          "execution_count": 20
        }
      ],
      "source": [
        "len(label_encoder.classes_)\n"
      ]
    },
    {
      "cell_type": "code",
      "execution_count": 21,
      "metadata": {
        "colab": {
          "base_uri": "https://localhost:8080/"
        },
        "id": "hgxJe_cAJ-Ro",
        "outputId": "af1e083f-c332-40ef-abb4-d64b9440e366"
      },
      "outputs": [
        {
          "output_type": "stream",
          "name": "stdout",
          "text": [
            "5\n",
            "['BACKGROUND' 'CONCLUSIONS' 'METHODS' 'OBJECTIVE' 'RESULTS']\n"
          ]
        }
      ],
      "source": [
        "classes = label_encoder.classes_\n",
        "print(len(classes))\n",
        "print(classes)"
      ]
    },
    {
      "cell_type": "code",
      "execution_count": 22,
      "metadata": {
        "id": "KCYYEvfrKEEW"
      },
      "outputs": [],
      "source": [
        "# scikit learn machine learning map"
      ]
    },
    {
      "cell_type": "markdown",
      "metadata": {
        "id": "kIGcPfc0TP8h"
      },
      "source": [
        "## Building a baseline model"
      ]
    },
    {
      "cell_type": "code",
      "execution_count": 23,
      "metadata": {
        "id": "C5zK-FWCTU8s"
      },
      "outputs": [],
      "source": [
        "from sklearn.feature_extraction.text import TfidfVectorizer\n",
        "from sklearn.naive_bayes import MultinomialNB\n",
        "from sklearn.pipeline import Pipeline\n",
        "from sklearn.metrics import accuracy_score, precision_recall_fscore_support"
      ]
    },
    {
      "cell_type": "code",
      "execution_count": 24,
      "metadata": {
        "id": "2JGfz45zfWsN"
      },
      "outputs": [],
      "source": [
        "base_model = Pipeline([(\"tf-idf\", TfidfVectorizer()),\n",
        "                    (\"clf\",MultinomialNB())\n",
        "                    ])"
      ]
    },
    {
      "cell_type": "code",
      "execution_count": 25,
      "metadata": {
        "id": "YYwRbBRngHPz"
      },
      "outputs": [],
      "source": [
        "base_model.fit(X= train_sentences, y = train_labels_encoded);"
      ]
    },
    {
      "cell_type": "code",
      "execution_count": 26,
      "metadata": {
        "colab": {
          "base_uri": "https://localhost:8080/"
        },
        "id": "t5SG1Jy_gaPV",
        "outputId": "2bf8cdee-53dc-4762-e0ce-6a7f6ee6f732"
      },
      "outputs": [
        {
          "output_type": "execute_result",
          "data": {
            "text/plain": [
              "0.7218323844829869"
            ]
          },
          "metadata": {},
          "execution_count": 26
        }
      ],
      "source": [
        "base_model.score(X= validation_sentences,\n",
        "                 y= val_labels_encoded)"
      ]
    },
    {
      "cell_type": "code",
      "execution_count": 27,
      "metadata": {
        "colab": {
          "base_uri": "https://localhost:8080/"
        },
        "id": "7Pji6mi0hWjK",
        "outputId": "8ce1d3f9-021b-4d8d-e44d-744ad7244ab0"
      },
      "outputs": [
        {
          "output_type": "execute_result",
          "data": {
            "text/plain": [
              "array([4, 1, 3, ..., 4, 4, 1])"
            ]
          },
          "metadata": {},
          "execution_count": 27
        }
      ],
      "source": [
        "base_model_predictions = base_model.predict(validation_sentences)\n",
        "base_model_predictions"
      ]
    },
    {
      "cell_type": "code",
      "execution_count": 28,
      "metadata": {
        "id": "meIgvkp2hzSF"
      },
      "outputs": [],
      "source": [
        "def calculate_results(y_true, y_pred):\n",
        "  model_accuracy = accuracy_score(y_true, y_pred) * 100\n",
        "  model_precision, model_recall, model_f1, _ = precision_recall_fscore_support(y_true, y_pred, average=\"weighted\")\n",
        "  model_results = {\"accuracy\": model_accuracy,\n",
        "                  \"precision\": model_precision,\n",
        "                  \"recall\": model_recall,\n",
        "                  \"f1\": model_f1}\n",
        "  return model_results"
      ]
    },
    {
      "cell_type": "code",
      "execution_count": 29,
      "metadata": {
        "colab": {
          "base_uri": "https://localhost:8080/"
        },
        "id": "E8sUBRbYjFXx",
        "outputId": "6c856850-50e2-4a10-abe8-3b46a60c5ad7"
      },
      "outputs": [
        {
          "output_type": "stream",
          "name": "stdout",
          "text": [
            "{'accuracy': 72.1832384482987, 'precision': 0.7186466952323352, 'recall': 0.7218323844829869, 'f1': 0.6989250353450294}\n"
          ]
        }
      ],
      "source": [
        "base_model_results= calculate_results(val_labels_encoded, base_model_predictions)\n",
        "print(base_model_results)"
      ]
    },
    {
      "cell_type": "markdown",
      "metadata": {
        "id": "Q2b3gheJvTBq"
      },
      "source": [
        "##Preparing data for deep learning models\n"
      ]
    },
    {
      "cell_type": "code",
      "execution_count": 30,
      "metadata": {
        "colab": {
          "base_uri": "https://localhost:8080/"
        },
        "id": "PlV7oxwBjW3S",
        "outputId": "02ede11b-2d82-429a-9d41-f00d28bc2a21"
      },
      "outputs": [
        {
          "output_type": "stream",
          "name": "stdout",
          "text": [
            "26.338269273494777\n"
          ]
        }
      ],
      "source": [
        "\n",
        "sen_length = [len(sentence.split()) for sentence in train_sentences]\n",
        "average_sen_length = np.mean(sen_length)\n",
        "print(average_sen_length)"
      ]
    },
    {
      "cell_type": "code",
      "execution_count": 31,
      "metadata": {
        "colab": {
          "base_uri": "https://localhost:8080/"
        },
        "id": "aiScDW2RwiZP",
        "outputId": "dfbc020d-251b-47f9-e176-f695aff85f60"
      },
      "outputs": [
        {
          "output_type": "execute_result",
          "data": {
            "text/plain": [
              "['to investigate the efficacy of @ weeks of daily low-dose oral prednisolone in improving pain , mobility , and systemic low-grade inflammation in the short term and whether the effect would be sustained at @ weeks in older adults with moderate to severe knee osteoarthritis ( oa ) .',\n",
              " 'a total of @ patients with primary knee oa were randomized @:@ ; @ received @ mg/day of prednisolone and @ received placebo for @ weeks .',\n",
              " 'outcome measures included pain reduction and improvement in function scores and systemic inflammation markers .',\n",
              " 'pain was assessed using the visual analog pain scale ( @-@ mm ) .',\n",
              " 'secondary outcome measures included the western ontario and mcmaster universities osteoarthritis index scores , patient global assessment ( pga ) of the severity of knee oa , and @-min walk distance ( @mwd ) .',\n",
              " 'serum levels of interleukin @ ( il-@ ) , il-@ , tumor necrosis factor ( tnf ) - , and high-sensitivity c-reactive protein ( hscrp ) were measured .',\n",
              " 'there was a clinically relevant reduction in the intervention group compared to the placebo group for knee pain , physical function , pga , and @mwd at @ weeks .',\n",
              " 'the mean difference between treatment arms ( @ % ci ) was @ ( @-@ @ ) , p < @ ; @ ( @-@ @ ) , p < @ ; @ ( @-@ @ ) , p < @ ; and @ ( @-@ @ ) , p < @ , respectively .',\n",
              " 'further , there was a clinically relevant reduction in the serum levels of il-@ , il-@ , tnf - , and hscrp at @ weeks in the intervention group when compared to the placebo group .',\n",
              " 'these differences remained significant at @ weeks .']"
            ]
          },
          "metadata": {},
          "execution_count": 31
        }
      ],
      "source": [
        "train_sentences[:10]"
      ]
    },
    {
      "cell_type": "code",
      "execution_count": 32,
      "metadata": {
        "colab": {
          "base_uri": "https://localhost:8080/",
          "height": 575
        },
        "id": "zeoy5pBEwyx3",
        "outputId": "66be84c4-5d8e-4ee2-920d-240bc155f240"
      },
      "outputs": [
        {
          "output_type": "execute_result",
          "data": {
            "text/plain": [
              "(array([4.2075e+04, 8.3771e+04, 3.6877e+04, 1.0945e+04, 3.9310e+03,\n",
              "        1.4450e+03, 5.6000e+02, 2.2600e+02, 1.0100e+02, 4.5000e+01,\n",
              "        2.0000e+01, 1.2000e+01, 9.0000e+00, 1.0000e+01, 6.0000e+00,\n",
              "        2.0000e+00, 3.0000e+00, 0.0000e+00, 1.0000e+00, 1.0000e+00]),\n",
              " array([  1.  ,  15.75,  30.5 ,  45.25,  60.  ,  74.75,  89.5 , 104.25,\n",
              "        119.  , 133.75, 148.5 , 163.25, 178.  , 192.75, 207.5 , 222.25,\n",
              "        237.  , 251.75, 266.5 , 281.25, 296.  ]),\n",
              " <BarContainer object of 20 artists>)"
            ]
          },
          "metadata": {},
          "execution_count": 32
        },
        {
          "output_type": "display_data",
          "data": {
            "text/plain": [
              "<Figure size 640x480 with 1 Axes>"
            ],
            "image/png": "[encoded data removed]"
          },
          "metadata": {}
        }
      ],
      "source": [
        "plt.hist(sen_length, bins=20)"
      ]
    },
    {
      "cell_type": "code",
      "execution_count": 33,
      "metadata": {
        "colab": {
          "base_uri": "https://localhost:8080/"
        },
        "id": "ls-JeYGExBFI",
        "outputId": "02561961-a46b-46e5-cece-3e8ad95886d7"
      },
      "outputs": [
        {
          "output_type": "execute_result",
          "data": {
            "text/plain": [
              "296"
            ]
          },
          "metadata": {},
          "execution_count": 33
        }
      ],
      "source": [
        "max(sen_length)"
      ]
    },
    {
      "cell_type": "markdown",
      "metadata": {
        "id": "3Fxs1ba1yME4"
      },
      "source": [
        "## Text Vectorization layer\n",
        "information taken from the paper:-\n",
        "max features(vocab size):-68k"
      ]
    },
    {
      "cell_type": "code",
      "execution_count": 34,
      "metadata": {
        "colab": {
          "base_uri": "https://localhost:8080/"
        },
        "id": "BGoWEib60EcH",
        "outputId": "80e5c681-8ac0-40ec-ac13-5dca120a1a3c"
      },
      "outputs": [
        {
          "output_type": "execute_result",
          "data": {
            "text/plain": [
              "55"
            ]
          },
          "metadata": {},
          "execution_count": 34
        }
      ],
      "source": [
        "output_seq_length = int(np.percentile(sen_length, 95))\n",
        "output_seq_length"
      ]
    },
    {
      "cell_type": "code",
      "execution_count": 35,
      "metadata": {
        "id": "BNSLPnsix_9L"
      },
      "outputs": [],
      "source": [
        "from tensorflow.keras.layers import TextVectorization\n",
        "max_tokens= 68000\n",
        "text_vectorizer = TextVectorization(max_tokens= max_tokens,\n",
        "                                    standardize= \"lower_and_strip_punctuation\",\n",
        "                                    split= \"whitespace\",\n",
        "                                    ngrams= None,\n",
        "                                    output_mode= 'int',\n",
        "                                    output_sequence_length= output_seq_length,\n",
        "                                    pad_to_max_tokens= True)"
      ]
    },
    {
      "cell_type": "code",
      "execution_count": 36,
      "metadata": {
        "id": "vabYg7lo0g6H"
      },
      "outputs": [],
      "source": [
        "text_vectorizer.adapt(train_sentences)"
      ]
    },
    {
      "cell_type": "code",
      "execution_count": 37,
      "metadata": {
        "colab": {
          "base_uri": "https://localhost:8080/"
        },
        "id": "e2giJ66H0tJS",
        "outputId": "18ef4515-56e5-4430-b3b8-32accbdd854a"
      },
      "outputs": [
        {
          "output_type": "stream",
          "name": "stdout",
          "text": [
            "to investigate the efficacy of @ weeks of daily low-dose oral prednisolone in improving pain , mobility , and systemic low-grade inflammation in the short term and whether the effect would be sustained at @ weeks in older adults with moderate to severe knee osteoarthritis ( oa ) .\n",
            "49\n",
            "sentence after vectorization(before embedding): [[   6  331    2   79    4   53    4  161 1127  217 2535    5  557   65\n",
            "  1584    3  670 5559  636    5    2  654 1137    3  180    2   70  495\n",
            "    36  781   15   53    5  350  266    7  362    6  289  517 1430 1743\n",
            "     0    0    0    0    0    0    0    0    0    0    0    0    0]]\n"
          ]
        }
      ],
      "source": [
        "sen = train_sentences[0]\n",
        "print(sen)\n",
        "print(len(sen.split()))\n",
        "vectorized_sen = text_vectorizer([sen])\n",
        "print(f\"sentence after vectorization(before embedding): {text_vectorizer([sen])}\")"
      ]
    },
    {
      "cell_type": "code",
      "execution_count": 38,
      "metadata": {
        "colab": {
          "base_uri": "https://localhost:8080/"
        },
        "id": "SBsZNE661GuP",
        "outputId": "4a9ad8bc-3a12-4c65-f086-f04f61577cfc"
      },
      "outputs": [
        {
          "output_type": "stream",
          "name": "stdout",
          "text": [
            "Number of words in vocab: 64841\n",
            "Most common words in vocab: ['', '[UNK]', 'the', 'and', 'of']\n",
            "Least common words in vocab: ['aainduced', 'aaigroup', 'aachener', 'aachen', 'aaacp']\n"
          ]
        }
      ],
      "source": [
        "text_vocab = text_vectorizer.get_vocabulary()\n",
        "print(f\"Number of words in vocab: {len(text_vocab)}\")\n",
        "print(f\"Most common words in vocab: {text_vocab[:5]}\")\n",
        "print(f\"Least common words in vocab: {text_vocab[-5:]}\")"
      ]
    },
    {
      "cell_type": "markdown",
      "metadata": {
        "id": "eF11iOKO2v-J"
      },
      "source": [
        "## Creating embedding"
      ]
    },
    {
      "cell_type": "code",
      "execution_count": 39,
      "metadata": {
        "id": "YR_lSNXV2hGM"
      },
      "outputs": [],
      "source": [
        "from tensorflow.keras.layers import Embedding\n",
        "embedding = Embedding(input_dim = len(text_vocab),\n",
        "                      embeddings_initializer = \"uniform\",\n",
        "                      mask_zero = True,\n",
        "                      output_dim = 128)"
      ]
    },
    {
      "cell_type": "code",
      "execution_count": 40,
      "metadata": {
        "colab": {
          "base_uri": "https://localhost:8080/"
        },
        "id": "73L60c4I35eC",
        "outputId": "3d02497a-e706-487c-a396-87dd2d9fe790"
      },
      "outputs": [
        {
          "output_type": "stream",
          "name": "stdout",
          "text": [
            "sentence after embedding: [[[-0.02977158  0.04603061  0.01395993 ... -0.02648634 -0.02440267\n",
            "   -0.01046491]\n",
            "  [ 0.02532126  0.01429233  0.02016011 ... -0.03320946  0.03804718\n",
            "    0.04598543]\n",
            "  [-0.01285602  0.02369124  0.00339581 ...  0.0177015  -0.03616555\n",
            "   -0.04716478]\n",
            "  ...\n",
            "  [ 0.04828406 -0.02275862 -0.00374055 ... -0.00474081  0.02149406\n",
            "    0.04387972]\n",
            "  [ 0.04828406 -0.02275862 -0.00374055 ... -0.00474081  0.02149406\n",
            "    0.04387972]\n",
            "  [ 0.04828406 -0.02275862 -0.00374055 ... -0.00474081  0.02149406\n",
            "    0.04387972]]]\n"
          ]
        }
      ],
      "source": [
        "print(f\"sentence after embedding: {embedding(vectorized_sen)}\")\n",
        "embedded_sen = embedding(vectorized_sen)"
      ]
    },
    {
      "cell_type": "code",
      "execution_count": 41,
      "metadata": {
        "colab": {
          "base_uri": "https://localhost:8080/"
        },
        "id": "7bw7m8TO4UJe",
        "outputId": "221480c3-85a4-4799-b82a-767c6357dc5a"
      },
      "outputs": [
        {
          "output_type": "stream",
          "name": "stdout",
          "text": [
            "(1, 55, 128)\n"
          ]
        }
      ],
      "source": [
        "print(embedded_sen.shape)"
      ]
    },
    {
      "cell_type": "markdown",
      "metadata": {
        "id": "tYeoZ2X46MT2"
      },
      "source": [
        "##Better Performance with tf.data API\n",
        "step 1:- Turning our data into tensorflow datasets\n",
        "step2:- Turning tensorflow datasets into prefetching datasets"
      ]
    },
    {
      "cell_type": "code",
      "execution_count": 42,
      "metadata": {
        "colab": {
          "base_uri": "https://localhost:8080/"
        },
        "id": "uCCMcQzO6Lx3",
        "outputId": "5bc3c864-0a2d-4971-d251-533b8eba7b5c"
      },
      "outputs": [
        {
          "output_type": "execute_result",
          "data": {
            "text/plain": [
              "<_TensorSliceDataset element_spec=(TensorSpec(shape=(), dtype=tf.string, name=None), TensorSpec(shape=(5,), dtype=tf.float64, name=None))>"
            ]
          },
          "metadata": {},
          "execution_count": 42
        }
      ],
      "source": [
        "\n",
        "#step1\n",
        "train_dataset = Dataset.from_tensor_slices((train_sentences, train_labels_one_hot))\n",
        "val_dataset = Dataset.from_tensor_slices((validation_sentences, val_labels_one_hot))\n",
        "test_dataset = Dataset.from_tensor_slices((test_sentences, test_labels_one_hot))\n",
        "\n",
        "train_dataset"
      ]
    },
    {
      "cell_type": "code",
      "execution_count": 43,
      "metadata": {
        "colab": {
          "base_uri": "https://localhost:8080/"
        },
        "id": "Mmr9Rb8Q4t1M",
        "outputId": "2f4823da-e8ce-4608-a04c-6d73923e14f7"
      },
      "outputs": [
        {
          "output_type": "execute_result",
          "data": {
            "text/plain": [
              "<_PrefetchDataset element_spec=(TensorSpec(shape=(None,), dtype=tf.string, name=None), TensorSpec(shape=(None, 5), dtype=tf.float64, name=None))>"
            ]
          },
          "metadata": {},
          "execution_count": 43
        }
      ],
      "source": [
        "\n",
        "train_dataset = train_dataset.batch(32).prefetch(tf.data.AUTOTUNE)\n",
        "val_dataset = val_dataset.batch(32).prefetch(tf.data.AUTOTUNE)\n",
        "test_dataset = test_dataset.batch(32).prefetch(tf.data.AUTOTUNE)\n",
        "\n",
        "train_dataset"
      ]
    },
    {
      "cell_type": "markdown",
      "metadata": {
        "id": "kKg0HULZ9baC"
      },
      "source": [
        "## Model 1:- Conv1D with token embeddings"
      ]
    },
    {
      "cell_type": "code",
      "execution_count": 44,
      "metadata": {
        "id": "hiV0RaFh87Fz"
      },
      "outputs": [],
      "source": [
        "input_data = Input(shape=(1,), dtype= tf.string)\n",
        "vectors = text_vectorizer(input_data)\n",
        "token_embed = embedding(vectors)\n",
        "x = Conv1D(64, kernel_size= 5, activation= \"relu\", padding =\"same\")(token_embed)\n",
        "x = GlobalAveragePooling1D()(x)\n",
        "output_data = Dense(len(classes), activation = \"softmax\")(x)\n",
        "model_1 = Model(inputs = [input_data], outputs = [output_data], name = \"model_1\")"
      ]
    },
    {
      "cell_type": "code",
      "execution_count": 45,
      "metadata": {
        "colab": {
          "base_uri": "https://localhost:8080/"
        },
        "id": "6q_c7CEYrtTm",
        "outputId": "a7ac9f4c-cd22-4e50-8449-c83827e122bf"
      },
      "outputs": [
        {
          "output_type": "stream",
          "name": "stdout",
          "text": [
            "Model: \"model_1\"\n",
            "_________________________________________________________________\n",
            " Layer (type)                Output Shape              Param #   \n",
            "=================================================================\n",
            " input_1 (InputLayer)        [(None, 1)]               0         \n",
            "                                                                 \n",
            " text_vectorization (TextVe  (None, 55)                0         \n",
            " ctorization)                                                    \n",
            "                                                                 \n",
            " embedding (Embedding)       (None, 55, 128)           8299648   \n",
            "                                                                 \n",
            " conv1d (Conv1D)             (None, 55, 64)            41024     \n",
            "                                                                 \n",
            " global_average_pooling1d (  (None, 64)                0         \n",
            " GlobalAveragePooling1D)                                         \n",
            "                                                                 \n",
            " dense (Dense)               (None, 5)                 325       \n",
            "                                                                 \n",
            "=================================================================\n",
            "Total params: 8340997 (31.82 MB)\n",
            "Trainable params: 8340997 (31.82 MB)\n",
            "Non-trainable params: 0 (0.00 Byte)\n",
            "_________________________________________________________________\n"
          ]
        }
      ],
      "source": [
        "model_1.summary()"
      ]
    },
    {
      "cell_type": "code",
      "execution_count": 46,
      "metadata": {
        "id": "C6L-YE6DtlIJ"
      },
      "outputs": [],
      "source": [
        "model_1.compile(loss = \"categorical_crossentropy\",\n",
        "                optimizer = tf.keras.optimizers.Adam(),\n",
        "                metrics = [\"accuracy\"])"
      ]
    },
    {
      "cell_type": "code",
      "execution_count": 47,
      "metadata": {
        "id": "zT-TVFve_g3u"
      },
      "outputs": [],
      "source": [
        "len_train_dataset = len(train_dataset)\n",
        "len_val_dataset = len(val_dataset)"
      ]
    },
    {
      "cell_type": "code",
      "execution_count": 48,
      "metadata": {
        "colab": {
          "base_uri": "https://localhost:8080/"
        },
        "id": "ln0ol64DAYsY",
        "outputId": "4206af7d-1b93-49a4-872b-cf31e3d64705"
      },
      "outputs": [
        {
          "output_type": "stream",
          "name": "stdout",
          "text": [
            "Epoch 1/3\n",
            "562/562 [==============================] - 21s 31ms/step - loss: 0.9092 - accuracy: 0.6380 - val_loss: 0.6846 - val_accuracy: 0.7397\n",
            "Epoch 2/3\n",
            "562/562 [==============================] - 5s 10ms/step - loss: 0.6567 - accuracy: 0.7557 - val_loss: 0.6275 - val_accuracy: 0.7743\n",
            "Epoch 3/3\n",
            "562/562 [==============================] - 6s 10ms/step - loss: 0.6178 - accuracy: 0.7726 - val_loss: 0.5990 - val_accuracy: 0.7796\n"
          ]
        }
      ],
      "source": [
        "history_model_1 = model_1.fit(train_dataset,\n",
        "                              steps_per_epoch = int(0.1*len_train_dataset),\n",
        "                              epochs = 3,\n",
        "                              validation_data= val_dataset,\n",
        "                              validation_steps = int(0.1*len_val_dataset))"
      ]
    },
    {
      "cell_type": "code",
      "execution_count": 49,
      "metadata": {
        "id": "BSm9x-jHv5mM",
        "colab": {
          "base_uri": "https://localhost:8080/"
        },
        "outputId": "32c52d29-78c5-4942-cde7-18456e30a963"
      },
      "outputs": [
        {
          "output_type": "stream",
          "name": "stdout",
          "text": [
            "945/945 [==============================] - 3s 3ms/step - loss: 0.6006 - accuracy: 0.7859\n"
          ]
        },
        {
          "output_type": "execute_result",
          "data": {
            "text/plain": [
              "[0.6006271839141846, 0.7858797907829285]"
            ]
          },
          "metadata": {},
          "execution_count": 49
        }
      ],
      "source": [
        "model_1.evaluate(val_dataset)"
      ]
    },
    {
      "cell_type": "code",
      "execution_count": 50,
      "metadata": {
        "id": "cZAx9ktXyKsT",
        "colab": {
          "base_uri": "https://localhost:8080/"
        },
        "outputId": "c69b1148-f5f0-4ed1-c669-60837eb54207"
      },
      "outputs": [
        {
          "output_type": "stream",
          "name": "stdout",
          "text": [
            "945/945 [==============================] - 2s 2ms/step\n",
            "[[4.5306936e-01 1.5159233e-01 8.0600023e-02 2.8290042e-01 3.1837851e-02]\n",
            " [4.6607780e-01 2.9082248e-01 1.2692921e-02 2.2165783e-01 8.7490818e-03]\n",
            " [1.5557523e-01 5.7610869e-03 1.7461409e-03 8.3689576e-01 2.1844036e-05]\n",
            " ...\n",
            " [3.5715227e-06 4.7254973e-04 5.1601639e-04 3.8559042e-06 9.9900407e-01]\n",
            " [5.0467297e-02 4.6808964e-01 9.3176924e-02 5.9213698e-02 3.2905236e-01]\n",
            " [1.5814440e-01 6.8084985e-01 3.5305023e-02 4.6417616e-02 7.9283088e-02]]\n",
            "(30212, 5)\n"
          ]
        }
      ],
      "source": [
        "model_1_predprob = model_1.predict(val_dataset)\n",
        "print(model_1_predprob)\n",
        "print(model_1_predprob.shape)"
      ]
    },
    {
      "cell_type": "code",
      "execution_count": 51,
      "metadata": {
        "id": "hHKwEvQ7th8r"
      },
      "outputs": [],
      "source": [
        "model_1_pred = tf.argmax(model_1_predprob, axis =1)"
      ]
    },
    {
      "cell_type": "code",
      "execution_count": 52,
      "metadata": {
        "id": "-zFPvzkpukxX",
        "colab": {
          "base_uri": "https://localhost:8080/"
        },
        "outputId": "84a04c48-5aac-400a-d96a-5ba03a8f6c32"
      },
      "outputs": [
        {
          "output_type": "stream",
          "name": "stdout",
          "text": [
            "tf.Tensor([0 0 3 ... 4 1 1], shape=(30212,), dtype=int64)\n"
          ]
        }
      ],
      "source": [
        "print(model_1_pred)"
      ]
    },
    {
      "cell_type": "code",
      "execution_count": 53,
      "metadata": {
        "id": "3lInSWEXAS9Y"
      },
      "outputs": [],
      "source": [
        "Results_model_1 = calculate_results(y_true = val_labels_encoded,\n",
        "                                    y_pred = model_1_pred)"
      ]
    },
    {
      "cell_type": "code",
      "execution_count": 54,
      "metadata": {
        "id": "WIA-dwAIBsWA",
        "colab": {
          "base_uri": "https://localhost:8080/"
        },
        "outputId": "7d7dd54e-058e-49f1-b9e4-1d95c39588e1"
      },
      "outputs": [
        {
          "output_type": "stream",
          "name": "stdout",
          "text": [
            "{'accuracy': 78.58797828677346, 'precision': 0.7824102389993751, 'recall': 0.7858797828677346, 'f1': 0.7833405361137926}\n"
          ]
        }
      ],
      "source": [
        "print(Results_model_1)"
      ]
    },
    {
      "cell_type": "markdown",
      "metadata": {
        "id": "Q-RTH7OiCPrG"
      },
      "source": [
        "##Model 2 : Feature Extraction with pretrained token embeddings\n",
        "may check out:-huggingface.co/models\n"
      ]
    },
    {
      "cell_type": "code",
      "execution_count": 55,
      "metadata": {
        "id": "wn6TKk39B1TX"
      },
      "outputs": [],
      "source": [
        "import tensorflow_hub as hub\n",
        "tf_hub_embedding_layer = hub.KerasLayer(\"https://tfhub.dev/google/universal-sentence-encoder/4\",\n",
        "                                        trainable=False,\n",
        "                                        name=\"universal_sentence_encoder\")"
      ]
    },
    {
      "cell_type": "code",
      "execution_count": 56,
      "metadata": {
        "colab": {
          "base_uri": "https://localhost:8080/"
        },
        "id": "wdRbpwGJM3nX",
        "outputId": "097f4234-197b-4a10-b812-781b28cae1a5"
      },
      "outputs": [
        {
          "output_type": "stream",
          "name": "stdout",
          "text": [
            "sentence before embedding layer: to investigate the efficacy of @ weeks of daily low-dose oral prednisolone in improving pain , mobility , and systemic low-grade inflammation in the short term and whether the effect would be sustained at @ weeks in older adults with moderate to severe knee osteoarthritis ( oa ) .\n",
            "sentence after embedding : [[-4.90380339e-02  5.24623394e-02  3.95998619e-02 -6.31776527e-02\n",
            "  -7.30676949e-02  6.28731474e-02  3.52799073e-02 -6.18203953e-02\n",
            "   5.71083128e-02  4.63245437e-02  7.16570467e-02  2.51985993e-03\n",
            "  -9.52070300e-03  6.51001697e-03  3.80008928e-02  3.74653973e-02\n",
            "  -7.96469301e-02  6.41185641e-02  3.50537635e-02 -3.88272963e-02\n",
            "   1.50759863e-02 -1.20223081e-02  1.47859231e-02 -2.70261355e-02\n",
            "   1.51410606e-02  5.35054170e-02 -6.14336226e-03 -3.47358286e-02\n",
            "  -7.48624578e-02  2.86218990e-03 -5.25581762e-02  7.89910182e-02\n",
            "   7.17563331e-02  1.59457736e-02 -6.31276146e-02  1.22191506e-02\n",
            "  -1.35266036e-02 -3.82611081e-02 -1.69011690e-02 -6.66884407e-02\n",
            "  -4.18503769e-02  7.29317218e-02 -1.60359126e-02 -5.26477471e-02\n",
            "   6.90131262e-02  6.53062239e-02 -3.43542211e-02 -3.79559807e-02\n",
            "  -4.99639027e-02  2.09791604e-02 -5.60803078e-02  1.14749698e-02\n",
            "  -2.61531882e-02  2.75024734e-02  7.41543919e-02  2.24771332e-02\n",
            "  -6.07249811e-02  2.60245185e-02  1.01692406e-02 -2.40916405e-02\n",
            "  -6.76476955e-02  4.49485332e-02  5.26538081e-02 -6.59608245e-02\n",
            "   1.65008102e-02 -5.85078709e-02  2.67462786e-02 -4.51612286e-02\n",
            "  -3.83274406e-02 -7.09554628e-02  2.57301871e-02 -7.27252364e-02\n",
            "  -3.51591595e-03 -2.62073204e-02 -1.86315067e-02  4.52314094e-02\n",
            "  -3.36861871e-02  4.77226563e-02  5.89824095e-02  5.79145439e-02\n",
            "  -1.30984914e-02  4.54536565e-02  5.29087335e-02  1.69353038e-02\n",
            "  -9.72576812e-03  3.31968516e-02 -2.30787098e-02 -3.00790872e-02\n",
            "   1.16272625e-02 -6.60024658e-02  6.51323125e-02 -2.96568666e-02\n",
            "  -6.22926168e-02 -3.71919312e-02  2.27919500e-02  7.00270236e-02\n",
            "  -2.22060457e-02  1.70931779e-02  5.46715669e-02 -6.98415935e-02\n",
            "  -4.32225205e-02 -3.02880500e-02  5.72669730e-02  4.96918038e-02\n",
            "   2.34933719e-02 -1.60410926e-02 -5.01775965e-02  6.77752569e-02\n",
            "  -3.03536132e-02 -6.01739213e-02  6.04394972e-02  2.13990491e-02\n",
            "   2.66470257e-02  1.46713248e-02 -8.47995933e-03  4.41513844e-02\n",
            "  -5.19509986e-02 -6.97782785e-02  4.03377078e-02  5.21049798e-02\n",
            "   4.23581265e-02  5.04958667e-02  5.25323004e-02 -1.78967584e-02\n",
            "   6.48838431e-02 -5.91430888e-02  1.04223005e-02  3.64233404e-02\n",
            "   5.13913035e-02 -2.02528723e-02 -7.78024048e-02  7.96720311e-02\n",
            "   3.17689851e-02 -1.06671751e-02  6.31239042e-02 -6.09620139e-02\n",
            "   3.92964892e-02  4.43575066e-03  5.79439364e-02 -2.32336000e-02\n",
            "   6.24933839e-02  7.70077631e-02 -4.68878224e-02  1.16870562e-02\n",
            "   2.45531630e-02  1.32480683e-02 -1.94048118e-02 -7.34524876e-02\n",
            "   4.55129780e-02  5.41087016e-02  6.32696077e-02 -3.19017619e-02\n",
            "  -4.59518917e-02  4.00612466e-02  7.78582916e-02  2.53135040e-02\n",
            "  -7.90917501e-03  4.84363437e-02 -8.19069985e-03 -6.49810135e-02\n",
            "  -1.63520500e-02 -5.69705589e-05 -6.02002023e-03 -4.02665474e-02\n",
            "   3.66501883e-02 -3.84475254e-02 -1.16252694e-02 -6.83045946e-04\n",
            "  -6.31386861e-02 -3.70360650e-02  3.90037522e-02 -7.94209763e-02\n",
            "  -4.28285114e-02 -4.82697710e-02 -2.57505476e-02 -3.55972946e-02\n",
            "  -3.74685321e-03 -5.99379018e-02 -1.87973212e-02  4.48826775e-02\n",
            "  -5.62619790e-02  2.22687125e-02 -7.03860307e-03 -1.09460903e-02\n",
            "   6.35608360e-02  1.91913527e-02 -3.69656421e-02 -4.87591550e-02\n",
            "  -6.97314516e-02 -1.45361116e-02  2.06426680e-02 -2.43078973e-02\n",
            "   1.59115940e-02  6.64902255e-02 -5.98800816e-02 -5.63429147e-02\n",
            "  -3.05538327e-02 -3.36361341e-02 -3.15161645e-02 -1.97050106e-02\n",
            "  -3.35521400e-02 -7.37242624e-02  1.06115481e-02  4.36987020e-02\n",
            "  -3.44690643e-02  2.43549775e-02  5.03322631e-02 -9.91860125e-03\n",
            "  -2.06421763e-02 -1.36473041e-03 -4.59160469e-02  2.22237725e-02\n",
            "  -5.77474311e-02  3.46699245e-02 -6.82628229e-02 -3.48748975e-02\n",
            "   1.72995720e-02  3.44611704e-02 -6.10900223e-02  7.71237612e-02\n",
            "  -1.49362478e-02  4.11391258e-02 -3.67890410e-02 -6.43601492e-02\n",
            "   1.28683764e-02  3.80463786e-02  2.26643626e-02 -5.96124493e-02\n",
            "   3.67996134e-02  1.90533269e-02 -3.77879292e-02  5.44542149e-02\n",
            "   6.81359600e-03 -6.52048737e-02  4.53018546e-02 -1.47603184e-03\n",
            "  -4.16113324e-02 -4.54198793e-02 -1.58887394e-02  1.54380528e-02\n",
            "  -4.38977126e-03  5.24935164e-02 -1.80316027e-02 -5.19808978e-02\n",
            "  -8.86567216e-03 -3.07489242e-02  6.35088086e-02 -7.19723552e-02\n",
            "   3.02402768e-02 -7.95044601e-02  7.80131370e-02 -5.60835302e-02\n",
            "  -2.92970892e-02  2.51753200e-02 -5.80824213e-03 -4.78075109e-02\n",
            "   7.33473748e-02  7.21418187e-02  5.10579832e-02  3.90382484e-02\n",
            "   5.86030371e-02  2.16287728e-02  7.14937970e-03  6.19183816e-02\n",
            "  -5.04270568e-02 -4.33898233e-02 -5.32921553e-02 -5.93176484e-03\n",
            "  -3.39600518e-02 -6.47264766e-03 -7.27053871e-03 -1.79338697e-02\n",
            "  -2.76532564e-02 -3.46069932e-02  1.16039431e-02 -2.02017203e-02\n",
            "  -4.99462523e-02  2.27345880e-02  3.05469590e-03 -2.69276164e-02\n",
            "   7.77753489e-03  1.87100358e-02 -1.06589531e-03  2.33725626e-02\n",
            "   3.15418690e-02 -3.57295647e-02  6.72835186e-02 -4.92953174e-02\n",
            "  -6.67052716e-02  7.14054927e-02 -5.91818690e-02 -4.08173501e-02\n",
            "   6.81191012e-02  4.81593497e-02  6.40363768e-02 -6.23369552e-02\n",
            "  -2.56957132e-02 -6.69518346e-03 -4.38656695e-02  2.40856525e-03\n",
            "  -4.95576039e-02  6.77650645e-02 -5.14704175e-03 -5.75929061e-02\n",
            "   1.15079237e-02  2.29568239e-02  1.87691581e-02  4.19131946e-03\n",
            "   3.51171382e-02 -5.78861833e-02 -2.77768951e-02 -1.38933398e-02\n",
            "   2.67663747e-02  1.15442323e-03  7.15108067e-02  5.55567152e-04\n",
            "  -5.09234592e-02  4.35655713e-02 -1.16261905e-02 -7.54832849e-03\n",
            "  -7.62183145e-02  6.07202528e-04  2.40630712e-02  3.07278223e-02\n",
            "  -4.29104306e-02  6.80322722e-02  3.90085578e-02 -3.71283852e-02\n",
            "  -5.32299317e-02  7.40471110e-02 -6.19232729e-02 -4.93596457e-02\n",
            "   2.60025673e-02  7.26528689e-02  2.80304421e-02 -4.09751646e-02\n",
            "  -3.60472756e-03  2.97033936e-02  1.79831721e-02 -7.43661672e-02\n",
            "  -1.96373705e-02  7.31411949e-02  6.12261482e-02  6.24652281e-02\n",
            "   3.90878730e-02 -7.13783354e-02  5.48866317e-02  2.07768995e-02\n",
            "  -3.76147889e-02 -6.17279783e-02 -5.87410219e-02 -2.56755874e-02\n",
            "   1.31572867e-02  2.39189137e-02  6.46950454e-02 -6.52446449e-02\n",
            "  -6.79353699e-02  1.54569820e-02 -7.07251579e-02 -6.38403371e-02\n",
            "  -1.42287668e-02  7.34563638e-03 -3.21208388e-02 -4.79508825e-02\n",
            "   5.46564488e-03 -6.65539131e-02  4.17262353e-02  2.37859450e-02\n",
            "  -6.45488054e-02  6.36518002e-02 -6.00708835e-03  1.38050234e-02\n",
            "  -6.10724464e-02 -1.00690397e-02  2.11463105e-02 -3.21778096e-02\n",
            "  -5.27931750e-02 -7.10161328e-02 -6.20212778e-02 -3.43653932e-02\n",
            "   7.93721974e-02  6.80036917e-02  6.65595084e-02  1.94047000e-02\n",
            "  -5.93735953e-04  7.73634436e-03  4.11529327e-03 -4.28845314e-03\n",
            "   7.11994916e-02  2.33034752e-02 -6.53106719e-02  2.11200193e-02\n",
            "  -2.94964369e-02  1.09790526e-02  7.45835826e-02 -6.68237358e-02\n",
            "   4.89723757e-02 -4.14846279e-02 -4.55615558e-02 -2.24915780e-02\n",
            "  -6.56286115e-03 -1.59862470e-02 -1.39626563e-02  3.01553980e-02\n",
            "  -3.18641588e-02  1.92761980e-02 -4.16154712e-02 -7.38348160e-03\n",
            "   2.91973092e-02  6.85412586e-02 -4.70253304e-02  4.09467071e-02\n",
            "   3.67741175e-02 -7.03205690e-02  3.75152938e-03 -6.03496805e-02\n",
            "   3.18998434e-02 -2.59715877e-02 -5.74324317e-02 -4.10795100e-02\n",
            "  -1.48341786e-02 -1.02940621e-02 -1.88559610e-02 -4.62255180e-02\n",
            "  -6.97520748e-02 -5.09233102e-02  2.04404201e-02  6.67430833e-02\n",
            "   3.50883491e-02  1.31431487e-04 -4.59215157e-02  3.48680131e-02\n",
            "  -9.43873543e-03  7.94755965e-02 -6.33749589e-02 -2.89585441e-02\n",
            "   3.10575170e-03  1.59217846e-02  7.34038725e-02  6.09045699e-02\n",
            "  -4.16849889e-02  2.00678892e-02 -5.43253273e-02  5.01744263e-02\n",
            "   3.17349248e-02 -5.91052324e-02 -5.37214801e-02 -6.06702454e-02\n",
            "   3.89317088e-02  1.06549449e-02  3.36382575e-02 -2.17188010e-03\n",
            "  -1.10796206e-02 -6.26524910e-02  1.23497704e-02  4.28541563e-02\n",
            "  -7.04381689e-02  7.31728449e-02 -4.00668494e-02  4.37846556e-02\n",
            "  -2.97713298e-02  4.19519991e-02 -6.04040064e-02 -1.52346985e-02\n",
            "   1.94449928e-02  8.90796166e-03 -4.86237146e-02  4.74670008e-02\n",
            "   1.50964577e-02 -4.64661606e-03  5.38112335e-02  3.43762003e-02\n",
            "  -4.30070944e-02  3.39996517e-02  6.85448805e-03 -3.42708896e-03\n",
            "   6.08312748e-02  4.45394951e-04  7.20117241e-02 -4.18657735e-02\n",
            "   1.45590468e-03  6.72580898e-02 -4.86514270e-02 -4.28869165e-02\n",
            "  -7.80798644e-02  7.24619702e-02  6.63283863e-04  1.29524758e-02\n",
            "  -3.11067831e-02 -1.90794526e-03  2.28521950e-03 -1.85545105e-02\n",
            "   3.34346318e-04 -4.74817790e-02  7.88268226e-04 -3.31600532e-02\n",
            "   7.18179345e-02 -4.22516167e-02  3.10745556e-02  2.55305786e-03\n",
            "  -2.57669184e-02 -5.39806262e-02  4.38183686e-03 -7.61198401e-02\n",
            "   4.24926355e-02 -7.96541870e-02  1.65461432e-02 -3.71138081e-02\n",
            "   2.46070139e-02  3.03509403e-02 -4.03094366e-02  4.24526036e-02]]\n"
          ]
        }
      ],
      "source": [
        "print(f\"sentence before embedding layer: {train_sentences[0]}\")\n",
        "embedded_sentence = tf_hub_embedding_layer([train_sentences[0]])\n",
        "print(f\"sentence after embedding : {embedded_sentence}\")"
      ]
    },
    {
      "cell_type": "code",
      "execution_count": 57,
      "metadata": {
        "colab": {
          "base_uri": "https://localhost:8080/"
        },
        "id": "ebl-Ha7PlwCv",
        "outputId": "9a48986e-25d6-40df-ef0d-23253e5ff50d"
      },
      "outputs": [
        {
          "output_type": "stream",
          "name": "stdout",
          "text": [
            "512\n"
          ]
        }
      ],
      "source": [
        "print(len(embedded_sentence[0]))"
      ]
    },
    {
      "cell_type": "code",
      "execution_count": 58,
      "metadata": {
        "id": "mWqUjYpLmmP7"
      },
      "outputs": [],
      "source": [
        " input_data = Input(shape = [], dtype = tf.string)\n",
        " pretrained_embedding = tf_hub_embedding_layer(input_data)\n",
        " z = Dense(128, activation= \"relu\")(pretrained_embedding)\n",
        " output_data = Dense(5, activation = \"softmax\")(z)\n",
        " model_2 = Model(inputs = [input_data], outputs = [output_data])"
      ]
    },
    {
      "cell_type": "code",
      "execution_count": 59,
      "metadata": {
        "id": "32RFjLW5ovSZ"
      },
      "outputs": [],
      "source": [
        "model_2.compile(loss = \"categorical_crossentropy\",\n",
        "                optimizer = tf.keras.optimizers.Adam(),\n",
        "                metrics = [\"accuracy\"])"
      ]
    },
    {
      "cell_type": "code",
      "execution_count": 60,
      "metadata": {
        "id": "uu3Z-FtspCue",
        "colab": {
          "base_uri": "https://localhost:8080/"
        },
        "outputId": "f95b2a9b-c5f4-4ebb-b0c4-2851cf58d8b4"
      },
      "outputs": [
        {
          "output_type": "stream",
          "name": "stdout",
          "text": [
            "Model: \"model\"\n",
            "_________________________________________________________________\n",
            " Layer (type)                Output Shape              Param #   \n",
            "=================================================================\n",
            " input_2 (InputLayer)        [(None,)]                 0         \n",
            "                                                                 \n",
            " universal_sentence_encoder  (None, 512)               256797824 \n",
            "  (KerasLayer)                                                   \n",
            "                                                                 \n",
            " dense_1 (Dense)             (None, 128)               65664     \n",
            "                                                                 \n",
            " dense_2 (Dense)             (None, 5)                 645       \n",
            "                                                                 \n",
            "=================================================================\n",
            "Total params: 256864133 (979.86 MB)\n",
            "Trainable params: 66309 (259.02 KB)\n",
            "Non-trainable params: 256797824 (979.61 MB)\n",
            "_________________________________________________________________\n"
          ]
        }
      ],
      "source": [
        "model_2.summary()"
      ]
    },
    {
      "cell_type": "code",
      "execution_count": 61,
      "metadata": {
        "id": "SLraTfGzpFWF",
        "colab": {
          "base_uri": "https://localhost:8080/"
        },
        "outputId": "dee994ec-e17c-4e90-c4bd-8a6383a058e9"
      },
      "outputs": [
        {
          "output_type": "stream",
          "name": "stdout",
          "text": [
            "Epoch 1/3\n",
            "562/562 [==============================] - 11s 13ms/step - loss: 0.9178 - accuracy: 0.6512 - val_loss: 0.7984 - val_accuracy: 0.6905\n",
            "Epoch 2/3\n",
            "562/562 [==============================] - 9s 15ms/step - loss: 0.7701 - accuracy: 0.7005 - val_loss: 0.7574 - val_accuracy: 0.7041\n",
            "Epoch 3/3\n",
            "562/562 [==============================] - 7s 12ms/step - loss: 0.7556 - accuracy: 0.7106 - val_loss: 0.7417 - val_accuracy: 0.7111\n"
          ]
        }
      ],
      "source": [
        "history_model_2 = model_2.fit(train_dataset,\n",
        "                              epochs = 3,\n",
        "                              steps_per_epoch = int(0.1*len(train_dataset)),\n",
        "                              validation_data = val_dataset,\n",
        "                              validation_steps = int(0.1*len(val_dataset)))"
      ]
    },
    {
      "cell_type": "code",
      "execution_count": 62,
      "metadata": {
        "id": "Tbr9eSy9qNBG",
        "colab": {
          "base_uri": "https://localhost:8080/"
        },
        "outputId": "8258b3dc-4a85-4b30-88db-b17afc80de70"
      },
      "outputs": [
        {
          "output_type": "stream",
          "name": "stdout",
          "text": [
            "945/945 [==============================] - 9s 10ms/step - loss: 0.7444 - accuracy: 0.7129\n"
          ]
        },
        {
          "output_type": "execute_result",
          "data": {
            "text/plain": [
              "[0.7444271445274353, 0.7128624320030212]"
            ]
          },
          "metadata": {},
          "execution_count": 62
        }
      ],
      "source": [
        "model_2.evaluate(val_dataset)"
      ]
    },
    {
      "cell_type": "code",
      "execution_count": 63,
      "metadata": {
        "id": "E-pEclzoqfef",
        "colab": {
          "base_uri": "https://localhost:8080/"
        },
        "outputId": "422c0d6b-7cf8-4ebf-b3f1-eb1cc4d55cc6"
      },
      "outputs": [
        {
          "output_type": "stream",
          "name": "stdout",
          "text": [
            "945/945 [==============================] - 10s 10ms/step\n"
          ]
        },
        {
          "output_type": "execute_result",
          "data": {
            "text/plain": [
              "array([[4.6489525e-01, 3.4298313e-01, 2.1970798e-03, 1.8313468e-01,\n",
              "        6.7898212e-03],\n",
              "       [3.6440426e-01, 4.8862293e-01, 3.3923201e-03, 1.4092182e-01,\n",
              "        2.6586356e-03],\n",
              "       [2.2643584e-01, 1.5508421e-01, 1.9496266e-02, 5.6037283e-01,\n",
              "        3.8610891e-02],\n",
              "       ...,\n",
              "       [1.7274818e-03, 5.1892782e-03, 5.0203368e-02, 7.7065191e-04,\n",
              "        9.4210917e-01],\n",
              "       [4.1120909e-03, 5.3052939e-02, 2.0622487e-01, 1.4513469e-03,\n",
              "        7.3515874e-01],\n",
              "       [1.8269141e-01, 2.2856610e-01, 5.1807255e-01, 6.8586539e-03,\n",
              "        6.3811339e-02]], dtype=float32)"
            ]
          },
          "metadata": {},
          "execution_count": 63
        }
      ],
      "source": [
        "\n",
        "model_2_predprob = model_2.predict(val_dataset)\n",
        "model_2_predprob"
      ]
    },
    {
      "cell_type": "code",
      "execution_count": 64,
      "metadata": {
        "id": "1VagQFYFqzAd",
        "colab": {
          "base_uri": "https://localhost:8080/"
        },
        "outputId": "197e2d52-9fda-4be7-836b-76babf888c22"
      },
      "outputs": [
        {
          "output_type": "execute_result",
          "data": {
            "text/plain": [
              "<tf.Tensor: shape=(30212,), dtype=int64, numpy=array([0, 1, 3, ..., 4, 4, 2])>"
            ]
          },
          "metadata": {},
          "execution_count": 64
        }
      ],
      "source": [
        "model_2_preds = tf.argmax(model_2_predprob,axis =1)\n",
        "model_2_preds"
      ]
    },
    {
      "cell_type": "code",
      "execution_count": 65,
      "metadata": {
        "id": "BiS8kCJxq9tI",
        "colab": {
          "base_uri": "https://localhost:8080/"
        },
        "outputId": "27c00812-0d0d-4320-bd6b-c4194787aad7"
      },
      "outputs": [
        {
          "output_type": "execute_result",
          "data": {
            "text/plain": [
              "{'accuracy': 71.28624387660533,\n",
              " 'precision': 0.7130392912050831,\n",
              " 'recall': 0.7128624387660533,\n",
              " 'f1': 0.7100370266059295}"
            ]
          },
          "metadata": {},
          "execution_count": 65
        }
      ],
      "source": [
        "Results_model_2 = calculate_results(y_true = val_labels_encoded,\n",
        "                                    y_pred = model_2_preds)\n",
        "Results_model_2"
      ]
    },
    {
      "cell_type": "code",
      "execution_count": 66,
      "metadata": {
        "id": "pqZ69rbGrY8C",
        "colab": {
          "base_uri": "https://localhost:8080/"
        },
        "outputId": "67d7c0ea-dcb3-452e-8dbe-e981bf55dc0f"
      },
      "outputs": [
        {
          "output_type": "execute_result",
          "data": {
            "text/plain": [
              "{'accuracy': 78.58797828677346,\n",
              " 'precision': 0.7824102389993751,\n",
              " 'recall': 0.7858797828677346,\n",
              " 'f1': 0.7833405361137926}"
            ]
          },
          "metadata": {},
          "execution_count": 66
        }
      ],
      "source": [
        "Results_model_1"
      ]
    },
    {
      "cell_type": "markdown",
      "metadata": {
        "id": "uylmFaVRjDrF"
      },
      "source": [
        "##Model 3:- Conv1D with character embeddings"
      ]
    },
    {
      "cell_type": "code",
      "execution_count": 67,
      "metadata": {
        "id": "ACJOrx5sroBX"
      },
      "outputs": [],
      "source": [
        "#creating character level tokenizer\n",
        "def split_characters(text):\n",
        " return \" \".join(list(text))"
      ]
    },
    {
      "cell_type": "code",
      "execution_count": 68,
      "metadata": {
        "id": "yL3xlAIIko4o"
      },
      "outputs": [],
      "source": [
        "train_characters = [split_characters(sentence) for sentence in train_sentences]\n",
        "validation_characters = [split_characters(sentence) for sentence in validation_sentences]\n",
        "test_characters = [split_characters(sentence) for sentence in test_sentences]"
      ]
    },
    {
      "cell_type": "code",
      "execution_count": 69,
      "metadata": {
        "id": "hEvxsIjClTCs",
        "colab": {
          "base_uri": "https://localhost:8080/"
        },
        "outputId": "4bd7f0e0-919f-416d-bd8f-33fe68e31f94"
      },
      "outputs": [
        {
          "output_type": "stream",
          "name": "stdout",
          "text": [
            "t o   i n v e s t i g a t e   t h e   e f f i c a c y   o f   @   w e e k s   o f   d a i l y   l o w - d o s e   o r a l   p r e d n i s o l o n e   i n   i m p r o v i n g   p a i n   ,   m o b i l i t y   ,   a n d   s y s t e m i c   l o w - g r a d e   i n f l a m m a t i o n   i n   t h e   s h o r t   t e r m   a n d   w h e t h e r   t h e   e f f e c t   w o u l d   b e   s u s t a i n e d   a t   @   w e e k s   i n   o l d e r   a d u l t s   w i t h   m o d e r a t e   t o   s e v e r e   k n e e   o s t e o a r t h r i t i s   (   o a   )   .\n"
          ]
        }
      ],
      "source": [
        "print(train_characters[0])"
      ]
    },
    {
      "cell_type": "code",
      "execution_count": 70,
      "metadata": {
        "id": "wFqj8s-tlWYn"
      },
      "outputs": [],
      "source": [
        "characters_length = [len(sentence) for sentence in train_sentences]\n",
        "characters_average_length = np.mean(characters_length)"
      ]
    },
    {
      "cell_type": "code",
      "execution_count": 71,
      "metadata": {
        "id": "RUdeHg1vlrG6",
        "colab": {
          "base_uri": "https://localhost:8080/"
        },
        "outputId": "666b2cdc-859f-4c3b-8dc3-a27002194665"
      },
      "outputs": [
        {
          "output_type": "stream",
          "name": "stdout",
          "text": [
            "149.3662574983337\n"
          ]
        }
      ],
      "source": [
        "print(characters_average_length)"
      ]
    },
    {
      "cell_type": "code",
      "execution_count": 72,
      "metadata": {
        "id": "hcH_ea6zlunG",
        "colab": {
          "base_uri": "https://localhost:8080/",
          "height": 539
        },
        "outputId": "9056f78c-071b-44fb-d8a9-7d952c8505bd"
      },
      "outputs": [
        {
          "output_type": "execute_result",
          "data": {
            "text/plain": [
              "(array([9.2691e+04, 7.6343e+04, 9.6890e+03, 1.0890e+03, 1.6700e+02,\n",
              "        4.2000e+01, 1.3000e+01, 3.0000e+00, 2.0000e+00, 1.0000e+00]),\n",
              " array([1.0000e+00, 1.3950e+02, 2.7800e+02, 4.1650e+02, 5.5500e+02,\n",
              "        6.9350e+02, 8.3200e+02, 9.7050e+02, 1.1090e+03, 1.2475e+03,\n",
              "        1.3860e+03]),\n",
              " <BarContainer object of 10 artists>)"
            ]
          },
          "metadata": {},
          "execution_count": 72
        },
        {
          "output_type": "display_data",
          "data": {
            "text/plain": [
              "<Figure size 640x480 with 1 Axes>"
            ],
            "image/png": "[encoded data removed]"
          },
          "metadata": {}
        }
      ],
      "source": [
        " plt.hist(characters_length, bins = 10)"
      ]
    },
    {
      "cell_type": "code",
      "execution_count": 73,
      "metadata": {
        "id": "AcfrO7yjmghf",
        "colab": {
          "base_uri": "https://localhost:8080/"
        },
        "outputId": "629b9eb9-7c71-4036-a942-7720dc2a84b4"
      },
      "outputs": [
        {
          "output_type": "execute_result",
          "data": {
            "text/plain": [
              "290"
            ]
          },
          "metadata": {},
          "execution_count": 73
        }
      ],
      "source": [
        "output_seq_character_length = int(np.percentile(characters_length,95))\n",
        "output_seq_character_length"
      ]
    },
    {
      "cell_type": "code",
      "execution_count": 74,
      "metadata": {
        "id": "_7BnjzkDm0et",
        "colab": {
          "base_uri": "https://localhost:8080/"
        },
        "outputId": "32041418-c805-4504-ef7d-c6dc7b8e1dc5"
      },
      "outputs": [
        {
          "output_type": "stream",
          "name": "stdout",
          "text": [
            "abcdefghijklmnopqrstuvwxyz0123456789!\"#$%&'()*+,-./:;<=>?@[\\]^_`{|}~\n"
          ]
        }
      ],
      "source": [
        "alphabet = string.ascii_lowercase + string.digits +string.punctuation\n",
        "print(alphabet)"
      ]
    },
    {
      "cell_type": "markdown",
      "metadata": {
        "id": "BdSNHpLmoBst"
      },
      "source": [
        "creating character level token vectorizer\n"
      ]
    },
    {
      "cell_type": "code",
      "execution_count": 75,
      "metadata": {
        "id": "g3wm6wksodjP"
      },
      "outputs": [],
      "source": [
        "NUM_CHAR_TOKENS = len(alphabet) + 2\n",
        "character_vectorizer = TextVectorization(max_tokens = NUM_CHAR_TOKENS,\n",
        "                                         output_sequence_length = output_seq_character_length,\n",
        "                                         name = \"character_tokenizer\")"
      ]
    },
    {
      "cell_type": "code",
      "execution_count": 76,
      "metadata": {
        "id": "slKitugzppXm"
      },
      "outputs": [],
      "source": [
        "character_vectorizer.adapt(train_characters)"
      ]
    },
    {
      "cell_type": "code",
      "execution_count": 77,
      "metadata": {
        "id": "25_JjVhlqbQS"
      },
      "outputs": [],
      "source": [
        "length_character_vocab = len(character_vectorizer.get_vocabulary())"
      ]
    },
    {
      "cell_type": "code",
      "execution_count": 78,
      "metadata": {
        "id": "dJ52hmfcrB0N",
        "colab": {
          "base_uri": "https://localhost:8080/"
        },
        "outputId": "c4ff6dc3-402e-4ebb-b9fe-f490eb895d98"
      },
      "outputs": [
        {
          "output_type": "stream",
          "name": "stdout",
          "text": [
            "28\n"
          ]
        }
      ],
      "source": [
        "print(length_character_vocab)"
      ]
    },
    {
      "cell_type": "markdown",
      "metadata": {
        "id": "MGca2KIFsOJt"
      },
      "source": [
        "Creating Character level embedding layer"
      ]
    },
    {
      "cell_type": "code",
      "execution_count": 79,
      "metadata": {
        "id": "rl4vrtC5rb0r"
      },
      "outputs": [],
      "source": [
        "character_embedding = Embedding(input_dim = length_character_vocab,\n",
        "                                mask_zero = \"True\",\n",
        "                                output_dim = 25)"
      ]
    },
    {
      "cell_type": "code",
      "execution_count": 80,
      "metadata": {
        "id": "o1Yb7YPEuEo2",
        "colab": {
          "base_uri": "https://localhost:8080/"
        },
        "outputId": "f7b6becd-1922-4b3a-c8d2-4aab550dd389"
      },
      "outputs": [
        {
          "output_type": "stream",
          "name": "stdout",
          "text": [
            "(1, 290, 25)\n"
          ]
        }
      ],
      "source": [
        "sen = train_sentences[0]\n",
        "embedded_sen = character_embedding(character_vectorizer([sen]))\n",
        "print(embedded_sen.shape)"
      ]
    },
    {
      "cell_type": "code",
      "execution_count": 81,
      "metadata": {
        "id": "1hMZLhZEudu_"
      },
      "outputs": [],
      "source": [
        "input_data = Input(shape=(1,), dtype= tf.string)\n",
        "vectors = character_vectorizer(input_data)\n",
        "char_embed = character_embedding(vectors)\n",
        "x = Conv1D(64, kernel_size= 5, activation= \"relu\", padding =\"same\")(char_embed)\n",
        "x = GlobalMaxPool1D()(x)\n",
        "output_data = Dense(len(classes), activation = \"softmax\")(x)\n",
        "model_3 = Model(inputs = [input_data], outputs = [output_data], name = \"model_3\")"
      ]
    },
    {
      "cell_type": "code",
      "execution_count": 82,
      "metadata": {
        "id": "IVhU4FS7yndf"
      },
      "outputs": [],
      "source": [
        "model_3.compile(loss = \"categorical_crossentropy\",\n",
        "                optimizer= tf.keras.optimizers.Adam(),\n",
        "                metrics = [\"accuracy\"])"
      ]
    },
    {
      "cell_type": "code",
      "execution_count": 83,
      "metadata": {
        "id": "3mwaTdD3y_MW",
        "colab": {
          "base_uri": "https://localhost:8080/"
        },
        "outputId": "e757bc85-6b70-43b0-ee15-735ad0738fa3"
      },
      "outputs": [
        {
          "output_type": "stream",
          "name": "stdout",
          "text": [
            "Model: \"model_3\"\n",
            "_________________________________________________________________\n",
            " Layer (type)                Output Shape              Param #   \n",
            "=================================================================\n",
            " input_3 (InputLayer)        [(None, 1)]               0         \n",
            "                                                                 \n",
            " character_tokenizer (TextV  (None, 290)               0         \n",
            " ectorization)                                                   \n",
            "                                                                 \n",
            " embedding_1 (Embedding)     (None, 290, 25)           700       \n",
            "                                                                 \n",
            " conv1d_1 (Conv1D)           (None, 290, 64)           8064      \n",
            "                                                                 \n",
            " global_max_pooling1d (Glob  (None, 64)                0         \n",
            " alMaxPooling1D)                                                 \n",
            "                                                                 \n",
            " dense_3 (Dense)             (None, 5)                 325       \n",
            "                                                                 \n",
            "=================================================================\n",
            "Total params: 9089 (35.50 KB)\n",
            "Trainable params: 9089 (35.50 KB)\n",
            "Non-trainable params: 0 (0.00 Byte)\n",
            "_________________________________________________________________\n"
          ]
        }
      ],
      "source": [
        "model_3.summary()"
      ]
    },
    {
      "cell_type": "code",
      "execution_count": 84,
      "metadata": {
        "id": "cZXOA2rL9ADy"
      },
      "outputs": [],
      "source": [
        "train_dataset_2 = tf.data.Dataset.from_tensor_slices((train_characters,train_labels_one_hot)).batch(32).prefetch(tf.data.AUTOTUNE)\n",
        "val_dataset_2 = tf.data.Dataset.from_tensor_slices((validation_characters,val_labels_one_hot)).batch(32).prefetch(tf.data.AUTOTUNE)\n",
        "test_dataset_2 = tf.data.Dataset.from_tensor_slices((test_characters,test_labels_one_hot)).batch(32).prefetch(tf.data.AUTOTUNE)"
      ]
    },
    {
      "cell_type": "code",
      "execution_count": 85,
      "metadata": {
        "id": "ZWnh5wIOA1E-",
        "colab": {
          "base_uri": "https://localhost:8080/"
        },
        "outputId": "76b8f580-5836-4812-82a0-c4db0fa09c5d"
      },
      "outputs": [
        {
          "output_type": "execute_result",
          "data": {
            "text/plain": [
              "<_PrefetchDataset element_spec=(TensorSpec(shape=(None,), dtype=tf.string, name=None), TensorSpec(shape=(None, 5), dtype=tf.float64, name=None))>"
            ]
          },
          "metadata": {},
          "execution_count": 85
        }
      ],
      "source": [
        "train_dataset_2"
      ]
    },
    {
      "cell_type": "code",
      "execution_count": 86,
      "metadata": {
        "id": "QFJ0l6mhA4OL",
        "colab": {
          "base_uri": "https://localhost:8080/"
        },
        "outputId": "cc1768df-dd89-457a-d72b-976c467c6fe9"
      },
      "outputs": [
        {
          "output_type": "stream",
          "name": "stdout",
          "text": [
            "Epoch 1/3\n",
            "562/562 [==============================] - 5s 6ms/step - loss: 1.2662 - accuracy: 0.4817 - val_loss: 1.0611 - val_accuracy: 0.5748\n",
            "Epoch 2/3\n",
            "562/562 [==============================] - 3s 5ms/step - loss: 1.0141 - accuracy: 0.5949 - val_loss: 0.9545 - val_accuracy: 0.6200\n",
            "Epoch 3/3\n",
            "562/562 [==============================] - 3s 5ms/step - loss: 0.9320 - accuracy: 0.6313 - val_loss: 0.8788 - val_accuracy: 0.6513\n"
          ]
        }
      ],
      "source": [
        "history_model_3 = model_3.fit(train_dataset_2,\n",
        "                              epochs = 3,\n",
        "                              steps_per_epoch = int(0.1*len(train_dataset_2)),\n",
        "                              validation_data = val_dataset_2,\n",
        "                              validation_steps = int(0.1*len(val_dataset_2)))"
      ]
    },
    {
      "cell_type": "code",
      "execution_count": 87,
      "metadata": {
        "id": "wMn0xhYyBOKm",
        "colab": {
          "base_uri": "https://localhost:8080/"
        },
        "outputId": "de10a8d1-35ed-4d7c-8f45-ea5c01e2d67c"
      },
      "outputs": [
        {
          "output_type": "stream",
          "name": "stdout",
          "text": [
            "945/945 [==============================] - 4s 4ms/step - loss: 0.8912 - accuracy: 0.6539\n"
          ]
        },
        {
          "output_type": "execute_result",
          "data": {
            "text/plain": [
              "[0.8911970257759094, 0.6538792252540588]"
            ]
          },
          "metadata": {},
          "execution_count": 87
        }
      ],
      "source": [
        " model_3.evaluate(val_dataset_2)"
      ]
    },
    {
      "cell_type": "code",
      "execution_count": 88,
      "metadata": {
        "id": "gl8V59ztEVDj",
        "colab": {
          "base_uri": "https://localhost:8080/"
        },
        "outputId": "0a5c5843-2faa-4574-ced9-9fd3e48e6ce2"
      },
      "outputs": [
        {
          "output_type": "stream",
          "name": "stdout",
          "text": [
            "945/945 [==============================] - 2s 2ms/step\n"
          ]
        },
        {
          "output_type": "execute_result",
          "data": {
            "text/plain": [
              "array([[0.10282789, 0.48874038, 0.09769844, 0.15262744, 0.15810585],\n",
              "       [0.11070193, 0.75540775, 0.02691524, 0.05531049, 0.05166456],\n",
              "       [0.13030887, 0.3913418 , 0.23934439, 0.18603286, 0.05297201],\n",
              "       ...,\n",
              "       [0.01802662, 0.03727933, 0.13820179, 0.0429691 , 0.7635232 ],\n",
              "       [0.04533171, 0.11691663, 0.187443  , 0.05444334, 0.5958653 ],\n",
              "       [0.4704877 , 0.2758995 , 0.10748408, 0.13187657, 0.01425217]],\n",
              "      dtype=float32)"
            ]
          },
          "metadata": {},
          "execution_count": 88
        }
      ],
      "source": [
        "model_3_predprob = model_3.predict(val_dataset_2)\n",
        "model_3_predprob"
      ]
    },
    {
      "cell_type": "code",
      "execution_count": 89,
      "metadata": {
        "id": "LnUDhGQDGRBM",
        "colab": {
          "base_uri": "https://localhost:8080/"
        },
        "outputId": "7bce11c5-d9ed-4f86-e42d-572ee28d63b4"
      },
      "outputs": [
        {
          "output_type": "execute_result",
          "data": {
            "text/plain": [
              "<tf.Tensor: shape=(30212,), dtype=int64, numpy=array([1, 1, 1, ..., 4, 4, 0])>"
            ]
          },
          "metadata": {},
          "execution_count": 89
        }
      ],
      "source": [
        "model_3_preds = tf.argmax(model_3_predprob,axis =1)\n",
        "model_3_preds"
      ]
    },
    {
      "cell_type": "code",
      "execution_count": 90,
      "metadata": {
        "id": "nodKC26vGbC2",
        "colab": {
          "base_uri": "https://localhost:8080/"
        },
        "outputId": "8ab6b1d0-4287-478e-a347-b2a6e0b2f4d5"
      },
      "outputs": [
        {
          "output_type": "execute_result",
          "data": {
            "text/plain": [
              "{'accuracy': 65.38792532768436,\n",
              " 'precision': 0.6448874469419418,\n",
              " 'recall': 0.6538792532768436,\n",
              " 'f1': 0.6440288668217851}"
            ]
          },
          "metadata": {},
          "execution_count": 90
        }
      ],
      "source": [
        "Results_model_3 = calculate_results(y_true = val_labels_encoded,\n",
        "                                    y_pred = model_3_preds)\n",
        "Results_model_3"
      ]
    },
    {
      "cell_type": "markdown",
      "metadata": {
        "id": "CyXrqXB0pztQ"
      },
      "source": [
        "##Model 4 Using hybrid embedding layer (token + character)"
      ]
    },
    {
      "cell_type": "code",
      "execution_count": 91,
      "metadata": {
        "id": "8GucvJSHGspy",
        "colab": {
          "base_uri": "https://localhost:8080/"
        },
        "outputId": "6861364d-3e06-44bb-c592-cd9b19d951e1"
      },
      "outputs": [
        {
          "output_type": "stream",
          "name": "stdout",
          "text": [
            "Model: \"Hybrid_model\"\n",
            "__________________________________________________________________________________________________\n",
            " Layer (type)                Output Shape                 Param #   Connected to                  \n",
            "==================================================================================================\n",
            " input_5 (InputLayer)        [(None, 1)]                  0         []                            \n",
            "                                                                                                  \n",
            " input_4 (InputLayer)        [(None,)]                    0         []                            \n",
            "                                                                                                  \n",
            " character_tokenizer (TextV  (None, 290)                  0         ['input_5[0][0]']             \n",
            " ectorization)                                                                                    \n",
            "                                                                                                  \n",
            " universal_sentence_encoder  (None, 512)                  2567978   ['input_4[0][0]']             \n",
            "  (KerasLayer)                                            24                                      \n",
            "                                                                                                  \n",
            " embedding_1 (Embedding)     (None, 290, 25)              700       ['character_tokenizer[1][0]'] \n",
            "                                                                                                  \n",
            " dense_4 (Dense)             (None, 128)                  65664     ['universal_sentence_encoder[1\n",
            "                                                                    ][0]']                        \n",
            "                                                                                                  \n",
            " bidirectional (Bidirection  (None, 50)                   10200     ['embedding_1[1][0]']         \n",
            " al)                                                                                              \n",
            "                                                                                                  \n",
            " hybrid_embedding (Concaten  (None, 178)                  0         ['dense_4[0][0]',             \n",
            " ate)                                                                'bidirectional[0][0]']       \n",
            "                                                                                                  \n",
            " dropout (Dropout)           (None, 178)                  0         ['hybrid_embedding[0][0]']    \n",
            "                                                                                                  \n",
            " dense_5 (Dense)             (None, 128)                  22912     ['dropout[0][0]']             \n",
            "                                                                                                  \n",
            " dropout_1 (Dropout)         (None, 128)                  0         ['dense_5[0][0]']             \n",
            "                                                                                                  \n",
            " dense_6 (Dense)             (None, 5)                    645       ['dropout_1[0][0]']           \n",
            "                                                                                                  \n",
            "==================================================================================================\n",
            "Total params: 256897945 (979.99 MB)\n",
            "Trainable params: 100121 (391.10 KB)\n",
            "Non-trainable params: 256797824 (979.61 MB)\n",
            "__________________________________________________________________________________________________\n"
          ]
        }
      ],
      "source": [
        "input_token = Input(shape = [], dtype = tf.string)\n",
        "token_embedding = tf_hub_embedding_layer(input_token)\n",
        "output_token= Dense(128, activation= \"relu\")(token_embedding)\n",
        "sub_model_1 = Model(inputs = [input_token],\n",
        "                     outputs = [output_token])\n",
        "input_char = Input(shape=(1,), dtype= tf.string)\n",
        "vectors = character_vectorizer(input_char)\n",
        "char_embed = character_embedding(vectors)\n",
        "bidirectional_lstm = Bidirectional(LSTM(25))(char_embed)\n",
        "sub_model_2 = Model(inputs = [input_char],\n",
        "                    outputs = [bidirectional_lstm], name = \"sub_model_2\")\n",
        "#creating a hybrid embedding\n",
        "hybrid_embedding= Concatenate(name= \"hybrid_embedding\")([sub_model_1.output,sub_model_2.output])\n",
        "x = Dropout(0.5)(hybrid_embedding)\n",
        "x = Dense(128, activation = \"relu\")(x)\n",
        "x = Dropout(0.5)(x)\n",
        "output = Dense(len(classes), activation = \"softmax\")(x)\n",
        "Hybrid_model = Model(inputs = [sub_model_1.input, sub_model_2.input],\n",
        "                     outputs = [output], name = \"Hybrid_model\")\n",
        "Hybrid_model.summary()"
      ]
    },
    {
      "cell_type": "code",
      "execution_count": 92,
      "metadata": {
        "id": "Gc4D7Z3JNLUg"
      },
      "outputs": [],
      "source": [
        "Hybrid_model.compile(loss = \"categorical_crossentropy\",\n",
        "                     optimizer = tf.keras.optimizers.Adam(),\n",
        "                     metrics = [\"accuracy\"])"
      ]
    },
    {
      "cell_type": "markdown",
      "metadata": {
        "id": "5THQVBuqb6Vw"
      },
      "source": [
        "### Multi input fast loading tf.dataset"
      ]
    },
    {
      "cell_type": "code",
      "execution_count": 93,
      "metadata": {
        "id": "6FtGo4hxbZgM"
      },
      "outputs": [],
      "source": [
        "# for training dataset\n",
        "train_hybrid_data = tf.data.Dataset.from_tensor_slices((train_sentences, train_characters))\n",
        "train_hybrid_labels = tf.data.Dataset.from_tensor_slices(train_labels_one_hot)\n",
        "train_hybrid_dataset = tf.data.Dataset.zip((train_hybrid_data, train_hybrid_labels))\n",
        "train_hybrid_dataset = train_hybrid_dataset.batch(32).prefetch(tf.data.AUTOTUNE)\n",
        "# for validation dataset\n",
        "validation_hybrid_data = tf.data.Dataset.from_tensor_slices((validation_sentences, validation_characters))\n",
        "validation_hybrid_labels = tf.data.Dataset.from_tensor_slices(val_labels_one_hot)\n",
        "validation_hybrid_dataset = tf.data.Dataset.zip((validation_hybrid_data, validation_hybrid_labels))\n",
        "validation_hybrid_dataset = validation_hybrid_dataset.batch(32).prefetch(tf.data.AUTOTUNE)\n",
        "# for test dataset\n",
        "test_hybrid_data = tf.data.Dataset.from_tensor_slices((test_sentences, test_characters))\n",
        "test_hybrid_labels = tf.data.Dataset.from_tensor_slices(test_labels_one_hot)\n",
        "test_hybrid_dataset = tf.data.Dataset.zip((test_hybrid_data, test_hybrid_labels))\n",
        "test_hybrid_dataset = test_hybrid_dataset.batch(32).prefetch(tf.data.AUTOTUNE)"
      ]
    },
    {
      "cell_type": "code",
      "execution_count": 94,
      "metadata": {
        "id": "1mA2ciAWeEom",
        "colab": {
          "base_uri": "https://localhost:8080/"
        },
        "outputId": "07ae625a-d3fd-4a33-f03e-ca622db19d36"
      },
      "outputs": [
        {
          "output_type": "execute_result",
          "data": {
            "text/plain": [
              "<_PrefetchDataset element_spec=((TensorSpec(shape=(None,), dtype=tf.string, name=None), TensorSpec(shape=(None,), dtype=tf.string, name=None)), TensorSpec(shape=(None, 5), dtype=tf.float64, name=None))>"
            ]
          },
          "metadata": {},
          "execution_count": 94
        }
      ],
      "source": [
        "train_hybrid_dataset"
      ]
    },
    {
      "cell_type": "markdown",
      "metadata": {
        "id": "bJ9DwHa4fDdW"
      },
      "source": [
        "### Training the Hybrid model"
      ]
    },
    {
      "cell_type": "code",
      "execution_count": 95,
      "metadata": {
        "id": "aQ38_Vyse4XH",
        "colab": {
          "base_uri": "https://localhost:8080/"
        },
        "outputId": "5932e455-fbf1-4a37-a57c-7d6298288cd4"
      },
      "outputs": [
        {
          "output_type": "stream",
          "name": "stdout",
          "text": [
            "Epoch 1/3\n",
            "562/562 [==============================] - 42s 53ms/step - loss: 0.9844 - accuracy: 0.6085 - val_loss: 0.7812 - val_accuracy: 0.6991\n",
            "Epoch 2/3\n",
            "562/562 [==============================] - 28s 49ms/step - loss: 0.8034 - accuracy: 0.6903 - val_loss: 0.7213 - val_accuracy: 0.7224\n",
            "Epoch 3/3\n",
            "562/562 [==============================] - 23s 42ms/step - loss: 0.7756 - accuracy: 0.7040 - val_loss: 0.6885 - val_accuracy: 0.7397\n"
          ]
        }
      ],
      "source": [
        "history_hybrid_model = Hybrid_model.fit(train_hybrid_dataset,\n",
        "                              epochs = 3,\n",
        "                              steps_per_epoch = int(0.1*len(train_hybrid_dataset)),\n",
        "                              validation_data = validation_hybrid_dataset,\n",
        "                              validation_steps = int(0.1*len(validation_hybrid_dataset)))"
      ]
    },
    {
      "cell_type": "code",
      "execution_count": 96,
      "metadata": {
        "id": "ZqHcORqDfq9l",
        "colab": {
          "base_uri": "https://localhost:8080/"
        },
        "outputId": "e3e33fc2-6bb2-457f-fb59-13f2a60c97c2"
      },
      "outputs": [
        {
          "output_type": "stream",
          "name": "stdout",
          "text": [
            "945/945 [==============================] - 19s 20ms/step - loss: 0.6939 - accuracy: 0.7342\n"
          ]
        },
        {
          "output_type": "execute_result",
          "data": {
            "text/plain": [
              "[0.6938584446907043, 0.7341784834861755]"
            ]
          },
          "metadata": {},
          "execution_count": 96
        }
      ],
      "source": [
        "Hybrid_model.evaluate(validation_hybrid_dataset)"
      ]
    },
    {
      "cell_type": "code",
      "execution_count": 97,
      "metadata": {
        "id": "7iVaZK59g-0X",
        "colab": {
          "base_uri": "https://localhost:8080/"
        },
        "outputId": "f9b1d70d-4cf6-4419-975d-10f78bba7ac7"
      },
      "outputs": [
        {
          "output_type": "stream",
          "name": "stdout",
          "text": [
            "945/945 [==============================] - 23s 20ms/step\n"
          ]
        },
        {
          "output_type": "execute_result",
          "data": {
            "text/plain": [
              "array([[4.4342402e-01, 3.1725669e-01, 3.9014260e-03, 2.2859836e-01,\n",
              "        6.8194577e-03],\n",
              "       [3.1382138e-01, 4.6841422e-01, 3.2319608e-03, 2.1211219e-01,\n",
              "        2.4203197e-03],\n",
              "       [2.5550956e-01, 1.6442287e-01, 5.0147630e-02, 4.9255416e-01,\n",
              "        3.7365701e-02],\n",
              "       ...,\n",
              "       [6.2538974e-04, 8.2740886e-03, 4.3945324e-02, 1.3431054e-04,\n",
              "        9.4702089e-01],\n",
              "       [1.2045966e-02, 7.8527510e-02, 2.9417959e-01, 5.0675985e-03,\n",
              "        6.1017931e-01],\n",
              "       [3.1071585e-01, 3.8007742e-01, 2.1222883e-01, 3.0197721e-02,\n",
              "        6.6780262e-02]], dtype=float32)"
            ]
          },
          "metadata": {},
          "execution_count": 97
        }
      ],
      "source": [
        "Hybrid_model_predprobs = Hybrid_model.predict(validation_hybrid_dataset)\n",
        "Hybrid_model_predprobs"
      ]
    },
    {
      "cell_type": "code",
      "execution_count": 98,
      "metadata": {
        "id": "eJ8LYbTEhNIF",
        "colab": {
          "base_uri": "https://localhost:8080/"
        },
        "outputId": "28e199b3-8620-4594-b330-312c618ff7b2"
      },
      "outputs": [
        {
          "output_type": "execute_result",
          "data": {
            "text/plain": [
              "<tf.Tensor: shape=(30212,), dtype=int64, numpy=array([0, 1, 3, ..., 4, 4, 1])>"
            ]
          },
          "metadata": {},
          "execution_count": 98
        }
      ],
      "source": [
        "Hybrid_model_preds = tf.argmax(Hybrid_model_predprobs, axis = 1)\n",
        "Hybrid_model_preds"
      ]
    },
    {
      "cell_type": "code",
      "execution_count": 99,
      "metadata": {
        "id": "fM5uqUpOhxE1",
        "colab": {
          "base_uri": "https://localhost:8080/"
        },
        "outputId": "d21c04a1-5651-4df1-f0c0-66b3e027dc2c"
      },
      "outputs": [
        {
          "output_type": "stream",
          "name": "stdout",
          "text": [
            "{'accuracy': 73.41784721302793, 'precision': 0.7341744062132162, 'recall': 0.7341784721302793, 'f1': 0.7306656117391724}\n"
          ]
        }
      ],
      "source": [
        "Results_Hybrid_model = calculate_results(y_true = val_labels_encoded,\n",
        "                                         y_pred = Hybrid_model_preds)\n",
        "print(Results_Hybrid_model)"
      ]
    },
    {
      "cell_type": "code",
      "execution_count": 100,
      "metadata": {
        "id": "sX3KDfeZh6Vl",
        "colab": {
          "base_uri": "https://localhost:8080/"
        },
        "outputId": "93ed94e8-b4f1-43b6-b25b-868b333b700a"
      },
      "outputs": [
        {
          "output_type": "stream",
          "name": "stdout",
          "text": [
            "{'accuracy': 78.58797828677346, 'precision': 0.7824102389993751, 'recall': 0.7858797828677346, 'f1': 0.7833405361137926}\n"
          ]
        }
      ],
      "source": [
        "print(Results_model_1)"
      ]
    },
    {
      "cell_type": "markdown",
      "source": [
        "## Positional embeddings\n"
      ],
      "metadata": {
        "id": "M7SN59dYDDwc"
      }
    },
    {
      "cell_type": "code",
      "execution_count": 101,
      "metadata": {
        "id": "QcXGoB9Uh9Fg",
        "colab": {
          "base_uri": "https://localhost:8080/",
          "height": 206
        },
        "outputId": "e99a5530-1657-4f3a-a663-92f35c3b617c"
      },
      "outputs": [
        {
          "output_type": "execute_result",
          "data": {
            "text/plain": [
              "      target                                               text  line_number  \\\n",
              "0  OBJECTIVE  to investigate the efficacy of @ weeks of dail...            0   \n",
              "1    METHODS  a total of @ patients with primary knee oa wer...            1   \n",
              "2    METHODS  outcome measures included pain reduction and i...            2   \n",
              "3    METHODS  pain was assessed using the visual analog pain...            3   \n",
              "4    METHODS  secondary outcome measures included the wester...            4   \n",
              "\n",
              "   total_lines  \n",
              "0           11  \n",
              "1           11  \n",
              "2           11  \n",
              "3           11  \n",
              "4           11  "
            ],
            "text/html": [
              "\n",
              "  <div id=\"df-52be185f-71ad-45f1-9365-9e23bbc5018b\" class=\"colab-df-container\">\n",
              "    <div>\n",
              "<style scoped>\n",
              "    .dataframe tbody tr th:only-of-type {\n",
              "        vertical-align: middle;\n",
              "    }\n",
              "\n",
              "    .dataframe tbody tr th {\n",
              "        vertical-align: top;\n",
              "    }\n",
              "\n",
              "    .dataframe thead th {\n",
              "        text-align: right;\n",
              "    }\n",
              "</style>\n",
              "<table border=\"1\" class=\"dataframe\">\n",
              "  <thead>\n",
              "    <tr style=\"text-align: right;\">\n",
              "      <th></th>\n",
              "      <th>target</th>\n",
              "      <th>text</th>\n",
              "      <th>line_number</th>\n",
              "      <th>total_lines</th>\n",
              "    </tr>\n",
              "  </thead>\n",
              "  <tbody>\n",
              "    <tr>\n",
              "      <th>0</th>\n",
              "      <td>OBJECTIVE</td>\n",
              "      <td>to investigate the efficacy of @ weeks of dail...</td>\n",
              "      <td>0</td>\n",
              "      <td>11</td>\n",
              "    </tr>\n",
              "    <tr>\n",
              "      <th>1</th>\n",
              "      <td>METHODS</td>\n",
              "      <td>a total of @ patients with primary knee oa wer...</td>\n",
              "      <td>1</td>\n",
              "      <td>11</td>\n",
              "    </tr>\n",
              "    <tr>\n",
              "      <th>2</th>\n",
              "      <td>METHODS</td>\n",
              "      <td>outcome measures included pain reduction and i...</td>\n",
              "      <td>2</td>\n",
              "      <td>11</td>\n",
              "    </tr>\n",
              "    <tr>\n",
              "      <th>3</th>\n",
              "      <td>METHODS</td>\n",
              "      <td>pain was assessed using the visual analog pain...</td>\n",
              "      <td>3</td>\n",
              "      <td>11</td>\n",
              "    </tr>\n",
              "    <tr>\n",
              "      <th>4</th>\n",
              "      <td>METHODS</td>\n",
              "      <td>secondary outcome measures included the wester...</td>\n",
              "      <td>4</td>\n",
              "      <td>11</td>\n",
              "    </tr>\n",
              "  </tbody>\n",
              "</table>\n",
              "</div>\n",
              "    <div class=\"colab-df-buttons\">\n",
              "\n",
              "  <div class=\"colab-df-container\">\n",
              "    <button class=\"colab-df-convert\" onclick=\"convertToInteractive('df-52be185f-71ad-45f1-9365-9e23bbc5018b')\"\n",
              "            title=\"Convert this dataframe to an interactive table.\"\n",
              "            style=\"display:none;\">\n",
              "\n",
              "  <svg xmlns=\"http://www.w3.org/2000/svg\" height=\"24px\" viewBox=\"0 -960 960 960\">\n",
              "    <path d=\"M120-120v-720h720v720H120Zm60-500h600v-160H180v160Zm220 220h160v-160H400v160Zm0 220h160v-160H400v160ZM180-400h160v-160H180v160Zm440 0h160v-160H620v160ZM180-180h160v-160H180v160Zm440 0h160v-160H620v160Z\"/>\n",
              "  </svg>\n",
              "    </button>\n",
              "\n",
              "  <style>\n",
              "    .colab-df-container {\n",
              "      display:flex;\n",
              "      gap: 12px;\n",
              "    }\n",
              "\n",
              "    .colab-df-convert {\n",
              "      background-color: #E8F0FE;\n",
              "      border: none;\n",
              "      border-radius: 50%;\n",
              "      cursor: pointer;\n",
              "      display: none;\n",
              "      fill: #1967D2;\n",
              "      height: 32px;\n",
              "      padding: 0 0 0 0;\n",
              "      width: 32px;\n",
              "    }\n",
              "\n",
              "    .colab-df-convert:hover {\n",
              "      background-color: #E2EBFA;\n",
              "      box-shadow: 0px 1px 2px rgba(60, 64, 67, 0.3), 0px 1px 3px 1px rgba(60, 64, 67, 0.15);\n",
              "      fill: #174EA6;\n",
              "    }\n",
              "\n",
              "    .colab-df-buttons div {\n",
              "      margin-bottom: 4px;\n",
              "    }\n",
              "\n",
              "    [theme=dark] .colab-df-convert {\n",
              "      background-color: #3B4455;\n",
              "      fill: #D2E3FC;\n",
              "    }\n",
              "\n",
              "    [theme=dark] .colab-df-convert:hover {\n",
              "      background-color: #434B5C;\n",
              "      box-shadow: 0px 1px 3px 1px rgba(0, 0, 0, 0.15);\n",
              "      filter: drop-shadow(0px 1px 2px rgba(0, 0, 0, 0.3));\n",
              "      fill: #FFFFFF;\n",
              "    }\n",
              "  </style>\n",
              "\n",
              "    <script>\n",
              "      const buttonEl =\n",
              "        document.querySelector('#df-52be185f-71ad-45f1-9365-9e23bbc5018b button.colab-df-convert');\n",
              "      buttonEl.style.display =\n",
              "        google.colab.kernel.accessAllowed ? 'block' : 'none';\n",
              "\n",
              "      async function convertToInteractive(key) {\n",
              "        const element = document.querySelector('#df-52be185f-71ad-45f1-9365-9e23bbc5018b');\n",
              "        const dataTable =\n",
              "          await google.colab.kernel.invokeFunction('convertToInteractive',\n",
              "                                                    [key], {});\n",
              "        if (!dataTable) return;\n",
              "\n",
              "        const docLinkHtml = 'Like what you see? Visit the ' +\n",
              "          '<a target=\"_blank\" href=https://colab.research.google.com/notebooks/data_table.ipynb>data table notebook</a>'\n",
              "          + ' to learn more about interactive tables.';\n",
              "        element.innerHTML = '';\n",
              "        dataTable['output_type'] = 'display_data';\n",
              "        await google.colab.output.renderOutput(dataTable, element);\n",
              "        const docLink = document.createElement('div');\n",
              "        docLink.innerHTML = docLinkHtml;\n",
              "        element.appendChild(docLink);\n",
              "      }\n",
              "    </script>\n",
              "  </div>\n",
              "\n",
              "\n",
              "<div id=\"df-05a61a62-dd72-4385-97a3-f28f51c971f8\">\n",
              "  <button class=\"colab-df-quickchart\" onclick=\"quickchart('df-05a61a62-dd72-4385-97a3-f28f51c971f8')\"\n",
              "            title=\"Suggest charts\"\n",
              "            style=\"display:none;\">\n",
              "\n",
              "<svg xmlns=\"http://www.w3.org/2000/svg\" height=\"24px\"viewBox=\"0 0 24 24\"\n",
              "     width=\"24px\">\n",
              "    <g>\n",
              "        <path d=\"M19 3H5c-1.1 0-2 .9-2 2v14c0 1.1.9 2 2 2h14c1.1 0 2-.9 2-2V5c0-1.1-.9-2-2-2zM9 17H7v-7h2v7zm4 0h-2V7h2v10zm4 0h-2v-4h2v4z\"/>\n",
              "    </g>\n",
              "</svg>\n",
              "  </button>\n",
              "\n",
              "<style>\n",
              "  .colab-df-quickchart {\n",
              "      --bg-color: #E8F0FE;\n",
              "      --fill-color: #1967D2;\n",
              "      --hover-bg-color: #E2EBFA;\n",
              "      --hover-fill-color: #174EA6;\n",
              "      --disabled-fill-color: #AAA;\n",
              "      --disabled-bg-color: #DDD;\n",
              "  }\n",
              "\n",
              "  [theme=dark] .colab-df-quickchart {\n",
              "      --bg-color: #3B4455;\n",
              "      --fill-color: #D2E3FC;\n",
              "      --hover-bg-color: #434B5C;\n",
              "      --hover-fill-color: #FFFFFF;\n",
              "      --disabled-bg-color: #3B4455;\n",
              "      --disabled-fill-color: #666;\n",
              "  }\n",
              "\n",
              "  .colab-df-quickchart {\n",
              "    background-color: var(--bg-color);\n",
              "    border: none;\n",
              "    border-radius: 50%;\n",
              "    cursor: pointer;\n",
              "    display: none;\n",
              "    fill: var(--fill-color);\n",
              "    height: 32px;\n",
              "    padding: 0;\n",
              "    width: 32px;\n",
              "  }\n",
              "\n",
              "  .colab-df-quickchart:hover {\n",
              "    background-color: var(--hover-bg-color);\n",
              "    box-shadow: 0 1px 2px rgba(60, 64, 67, 0.3), 0 1px 3px 1px rgba(60, 64, 67, 0.15);\n",
              "    fill: var(--button-hover-fill-color);\n",
              "  }\n",
              "\n",
              "  .colab-df-quickchart-complete:disabled,\n",
              "  .colab-df-quickchart-complete:disabled:hover {\n",
              "    background-color: var(--disabled-bg-color);\n",
              "    fill: var(--disabled-fill-color);\n",
              "    box-shadow: none;\n",
              "  }\n",
              "\n",
              "  .colab-df-spinner {\n",
              "    border: 2px solid var(--fill-color);\n",
              "    border-color: transparent;\n",
              "    border-bottom-color: var(--fill-color);\n",
              "    animation:\n",
              "      spin 1s steps(1) infinite;\n",
              "  }\n",
              "\n",
              "  @keyframes spin {\n",
              "    0% {\n",
              "      border-color: transparent;\n",
              "      border-bottom-color: var(--fill-color);\n",
              "      border-left-color: var(--fill-color);\n",
              "    }\n",
              "    20% {\n",
              "      border-color: transparent;\n",
              "      border-left-color: var(--fill-color);\n",
              "      border-top-color: var(--fill-color);\n",
              "    }\n",
              "    30% {\n",
              "      border-color: transparent;\n",
              "      border-left-color: var(--fill-color);\n",
              "      border-top-color: var(--fill-color);\n",
              "      border-right-color: var(--fill-color);\n",
              "    }\n",
              "    40% {\n",
              "      border-color: transparent;\n",
              "      border-right-color: var(--fill-color);\n",
              "      border-top-color: var(--fill-color);\n",
              "    }\n",
              "    60% {\n",
              "      border-color: transparent;\n",
              "      border-right-color: var(--fill-color);\n",
              "    }\n",
              "    80% {\n",
              "      border-color: transparent;\n",
              "      border-right-color: var(--fill-color);\n",
              "      border-bottom-color: var(--fill-color);\n",
              "    }\n",
              "    90% {\n",
              "      border-color: transparent;\n",
              "      border-bottom-color: var(--fill-color);\n",
              "    }\n",
              "  }\n",
              "</style>\n",
              "\n",
              "  <script>\n",
              "    async function quickchart(key) {\n",
              "      const quickchartButtonEl =\n",
              "        document.querySelector('#' + key + ' button');\n",
              "      quickchartButtonEl.disabled = true;  // To prevent multiple clicks.\n",
              "      quickchartButtonEl.classList.add('colab-df-spinner');\n",
              "      try {\n",
              "        const charts = await google.colab.kernel.invokeFunction(\n",
              "            'suggestCharts', [key], {});\n",
              "      } catch (error) {\n",
              "        console.error('Error during call to suggestCharts:', error);\n",
              "      }\n",
              "      quickchartButtonEl.classList.remove('colab-df-spinner');\n",
              "      quickchartButtonEl.classList.add('colab-df-quickchart-complete');\n",
              "    }\n",
              "    (() => {\n",
              "      let quickchartButtonEl =\n",
              "        document.querySelector('#df-05a61a62-dd72-4385-97a3-f28f51c971f8 button');\n",
              "      quickchartButtonEl.style.display =\n",
              "        google.colab.kernel.accessAllowed ? 'block' : 'none';\n",
              "    })();\n",
              "  </script>\n",
              "</div>\n",
              "\n",
              "    </div>\n",
              "  </div>\n"
            ]
          },
          "metadata": {},
          "execution_count": 101
        }
      ],
      "source": [
        " train_df.head()"
      ]
    },
    {
      "cell_type": "code",
      "source": [
        "train_df.line_number.plot.hist()"
      ],
      "metadata": {
        "id": "uAvzA8iHDLHa",
        "colab": {
          "base_uri": "https://localhost:8080/",
          "height": 448
        },
        "outputId": "64add47b-4bf1-400a-af77-a10191c922b6"
      },
      "execution_count": 102,
      "outputs": [
        {
          "output_type": "execute_result",
          "data": {
            "text/plain": [
              "<Axes: ylabel='Frequency'>"
            ]
          },
          "metadata": {},
          "execution_count": 102
        },
        {
          "output_type": "display_data",
          "data": {
            "text/plain": [
              "<Figure size 640x480 with 1 Axes>"
            ],
            "image/png": "[encoded data removed]"
          },
          "metadata": {}
        }
      ]
    },
    {
      "cell_type": "code",
      "source": [
        "train_ln_one_hot = tf.one_hot(train_df[\"line_number\"].to_numpy(), depth = 15)\n",
        "val_ln_one_hot = tf.one_hot(validation_df[\"line_number\"].to_numpy(), depth = 15)\n",
        "test_ln_one_hot = tf.one_hot(test_df[\"line_number\"].to_numpy(), depth = 15)"
      ],
      "metadata": {
        "id": "bz5fMfyUDRk0"
      },
      "execution_count": 103,
      "outputs": []
    },
    {
      "cell_type": "code",
      "source": [
        "train_ln_one_hot.shape"
      ],
      "metadata": {
        "id": "z0MvxoZvDt0x",
        "colab": {
          "base_uri": "https://localhost:8080/"
        },
        "outputId": "97f5c1f4-03c4-4959-c887-c7f9dabce903"
      },
      "execution_count": 104,
      "outputs": [
        {
          "output_type": "execute_result",
          "data": {
            "text/plain": [
              "TensorShape([180040, 15])"
            ]
          },
          "metadata": {},
          "execution_count": 104
        }
      ]
    },
    {
      "cell_type": "code",
      "source": [
        "train_df.total_lines.plot.hist();"
      ],
      "metadata": {
        "id": "UCRzLCJXD0KS",
        "colab": {
          "base_uri": "https://localhost:8080/",
          "height": 431
        },
        "outputId": "1c5f7711-00cd-42b0-9944-466eb6d22e12"
      },
      "execution_count": 105,
      "outputs": [
        {
          "output_type": "display_data",
          "data": {
            "text/plain": [
              "<Figure size 640x480 with 1 Axes>"
            ],
            "image/png": "[encoded data removed]"
          },
          "metadata": {}
        }
      ]
    },
    {
      "cell_type": "code",
      "source": [
        "np.percentile(train_df.total_lines, 98)"
      ],
      "metadata": {
        "id": "MH-bk2fuEtPK",
        "colab": {
          "base_uri": "https://localhost:8080/"
        },
        "outputId": "72cc4cc8-e142-4419-9bc4-5b667efc3458"
      },
      "execution_count": 106,
      "outputs": [
        {
          "output_type": "execute_result",
          "data": {
            "text/plain": [
              "20.0"
            ]
          },
          "metadata": {},
          "execution_count": 106
        }
      ]
    },
    {
      "cell_type": "code",
      "source": [
        "train_total_ln_one_hot = tf.one_hot(train_df[\"total_lines\"].to_numpy(), depth = 20)\n",
        "val_total_ln_one_hot = tf.one_hot(validation_df[\"total_lines\"].to_numpy(), depth = 20)\n",
        "test_total_ln_one_hot = tf.one_hot(test_df[\"total_lines\"].to_numpy(), depth = 20)"
      ],
      "metadata": {
        "id": "ss2WysKlFKQl"
      },
      "execution_count": 107,
      "outputs": []
    },
    {
      "cell_type": "code",
      "source": [
        "train_total_ln_one_hot.shape"
      ],
      "metadata": {
        "id": "YpGEBLYgHRkc",
        "colab": {
          "base_uri": "https://localhost:8080/"
        },
        "outputId": "9a94fdde-342b-4385-aefd-9536f43a6ed9"
      },
      "execution_count": 108,
      "outputs": [
        {
          "output_type": "execute_result",
          "data": {
            "text/plain": [
              "TensorShape([180040, 20])"
            ]
          },
          "metadata": {},
          "execution_count": 108
        }
      ]
    },
    {
      "cell_type": "markdown",
      "source": [
        "##Building Tribrid embedding model"
      ],
      "metadata": {
        "id": "RherDDlNHib2"
      }
    },
    {
      "cell_type": "code",
      "source": [
        "input_token = Input(shape = [], dtype = \"string\", name = \"inputs_token\")\n",
        "token_embedding = tf_hub_embedding_layer(input_token)\n",
        "output_token= Dense(128, activation= \"relu\")(token_embedding)\n",
        "sub_model_1 = Model(inputs = [input_token],\n",
        "                     outputs = [output_token])\n",
        "input_char = Input(shape=(1,), dtype= tf.string)\n",
        "vectors = character_vectorizer(input_char)\n",
        "char_embed = character_embedding(vectors)\n",
        "bidirectional_lstm = Bidirectional(LSTM(25))(char_embed)\n",
        "sub_model_2 = Model(inputs = [input_char],\n",
        "                    outputs = [bidirectional_lstm], name = \"sub_model_2\")\n",
        "input_ln = Input(shape=(15,), dtype=tf.int32, name=\"input_ln\")\n",
        "z = Dense(32, activation=\"relu\")(input_ln)\n",
        "ln_feature_model = Model(inputs=[input_ln],\n",
        "                                   outputs=[z])\n",
        "input_total_line = Input(shape=(20,), dtype=tf.int32, name=\"input_total_line\")\n",
        "y = Dense(32, activation=\"relu\")(input_total_line)\n",
        "total_line_feature_model = tf.keras.Model(inputs=[input_total_line],\n",
        "                                  outputs=[y])\n",
        "token_char_embeddings = Concatenate(name=\"token_char_embeddings\")([sub_model_1.output,\n",
        "                                                                              sub_model_2.output])\n",
        "x = Dense(256, activation=\"relu\")(token_char_embeddings)\n",
        "x = Dropout(0.5)(x)\n",
        "x = Concatenate(name=\"token_char_positional_embedding\")([ln_feature_model.output,\n",
        "                                                                total_line_feature_model.output,\n",
        "                                                                x])\n",
        "output = Dense(5, activation=\"softmax\", name=\"output\")(x)\n",
        "Tribid_model = Model(inputs=[ln_feature_model.input,\n",
        "                        total_line_feature_model.input,\n",
        "                        sub_model_1.input,\n",
        "                        sub_model_2.input],\n",
        "                outputs = [output], name =\"Tribid_model\")\n",
        "print(Tribid_model.summary())"
      ],
      "metadata": {
        "id": "y5T8i6SFHYSt",
        "colab": {
          "base_uri": "https://localhost:8080/"
        },
        "outputId": "49be727f-1219-4bf9-b1d4-e6441ca650cd"
      },
      "execution_count": 109,
      "outputs": [
        {
          "output_type": "stream",
          "name": "stdout",
          "text": [
            "Model: \"Tribid_model\"\n",
            "__________________________________________________________________________________________________\n",
            " Layer (type)                Output Shape                 Param #   Connected to                  \n",
            "==================================================================================================\n",
            " input_6 (InputLayer)        [(None, 1)]                  0         []                            \n",
            "                                                                                                  \n",
            " inputs_token (InputLayer)   [(None,)]                    0         []                            \n",
            "                                                                                                  \n",
            " character_tokenizer (TextV  (None, 290)                  0         ['input_6[0][0]']             \n",
            " ectorization)                                                                                    \n",
            "                                                                                                  \n",
            " universal_sentence_encoder  (None, 512)                  2567978   ['inputs_token[0][0]']        \n",
            "  (KerasLayer)                                            24                                      \n",
            "                                                                                                  \n",
            " embedding_1 (Embedding)     (None, 290, 25)              700       ['character_tokenizer[2][0]'] \n",
            "                                                                                                  \n",
            " dense_7 (Dense)             (None, 128)                  65664     ['universal_sentence_encoder[2\n",
            "                                                                    ][0]']                        \n",
            "                                                                                                  \n",
            " bidirectional_1 (Bidirecti  (None, 50)                   10200     ['embedding_1[2][0]']         \n",
            " onal)                                                                                            \n",
            "                                                                                                  \n",
            " token_char_embeddings (Con  (None, 178)                  0         ['dense_7[0][0]',             \n",
            " catenate)                                                           'bidirectional_1[0][0]']     \n",
            "                                                                                                  \n",
            " input_ln (InputLayer)       [(None, 15)]                 0         []                            \n",
            "                                                                                                  \n",
            " input_total_line (InputLay  [(None, 20)]                 0         []                            \n",
            " er)                                                                                              \n",
            "                                                                                                  \n",
            " dense_10 (Dense)            (None, 256)                  45824     ['token_char_embeddings[0][0]'\n",
            "                                                                    ]                             \n",
            "                                                                                                  \n",
            " dense_8 (Dense)             (None, 32)                   512       ['input_ln[0][0]']            \n",
            "                                                                                                  \n",
            " dense_9 (Dense)             (None, 32)                   672       ['input_total_line[0][0]']    \n",
            "                                                                                                  \n",
            " dropout_2 (Dropout)         (None, 256)                  0         ['dense_10[0][0]']            \n",
            "                                                                                                  \n",
            " token_char_positional_embe  (None, 320)                  0         ['dense_8[0][0]',             \n",
            " dding (Concatenate)                                                 'dense_9[0][0]',             \n",
            "                                                                     'dropout_2[0][0]']           \n",
            "                                                                                                  \n",
            " output (Dense)              (None, 5)                    1605      ['token_char_positional_embedd\n",
            "                                                                    ing[0][0]']                   \n",
            "                                                                                                  \n",
            "==================================================================================================\n",
            "Total params: 256923001 (980.08 MB)\n",
            "Trainable params: 125177 (488.97 KB)\n",
            "Non-trainable params: 256797824 (979.61 MB)\n",
            "__________________________________________________________________________________________________\n",
            "None\n"
          ]
        }
      ]
    },
    {
      "cell_type": "code",
      "source": [
        "plot_model(Tribid_model)"
      ],
      "metadata": {
        "id": "rrhSHfrZV00l",
        "colab": {
          "base_uri": "https://localhost:8080/",
          "height": 856
        },
        "outputId": "deb67b5e-4d76-4417-8591-e32c3b06b5a3"
      },
      "execution_count": 110,
      "outputs": [
        {
          "output_type": "execute_result",
          "data": {
            "image/png": "[encoded data removed]",
            "text/plain": [
              "<IPython.core.display.Image object>"
            ]
          },
          "metadata": {},
          "execution_count": 110
        }
      ]
    },
    {
      "cell_type": "code",
      "source": [
        "Tribid_model.compile(loss=tf.keras.losses.CategoricalCrossentropy(label_smoothing=0.2), # add label smoothing (examples which are really confident get smoothed a little)\n",
        "                optimizer=tf.keras.optimizers.Adam(),\n",
        "                metrics=[\"accuracy\"])"
      ],
      "metadata": {
        "id": "A3iXO008WEF2"
      },
      "execution_count": 111,
      "outputs": []
    },
    {
      "cell_type": "code",
      "source": [
        "#training dataset\n",
        "train_tribid_data = tf.data.Dataset.from_tensor_slices((train_ln_one_hot, train_total_ln_one_hot, train_sentences, train_characters))\n",
        "train_tribid_labels = tf.data.Dataset.from_tensor_slices(train_labels_one_hot)\n",
        "train_tribid_dataset = tf.data.Dataset.zip((train_tribid_data, train_tribid_labels))\n",
        "train_tribid_dataset = train_tribid_dataset.batch(32).prefetch(tf.data.AUTOTUNE)\n",
        "# Validation dataset\n",
        "val_tribid_data = tf.data.Dataset.from_tensor_slices((val_ln_one_hot, val_total_ln_one_hot, validation_sentences, validation_characters))\n",
        "val_tribid_labels = tf.data.Dataset.from_tensor_slices(val_labels_one_hot)\n",
        "val_tribid_dataset = tf.data.Dataset.zip((val_tribid_data, val_tribid_labels))\n",
        "val_tribid_dataset = val_tribid_dataset.batch(32).prefetch(tf.data.AUTOTUNE)"
      ],
      "metadata": {
        "id": "XIqoAZpLWNAj"
      },
      "execution_count": 112,
      "outputs": []
    },
    {
      "cell_type": "code",
      "source": [
        "train_tribid_dataset, val_tribid_dataset"
      ],
      "metadata": {
        "id": "4j3HL5GSZBQM",
        "colab": {
          "base_uri": "https://localhost:8080/"
        },
        "outputId": "0b1b4fbd-a552-4a27-94fb-39a9c8bfd8d6"
      },
      "execution_count": 113,
      "outputs": [
        {
          "output_type": "execute_result",
          "data": {
            "text/plain": [
              "(<_PrefetchDataset element_spec=((TensorSpec(shape=(None, 15), dtype=tf.float32, name=None), TensorSpec(shape=(None, 20), dtype=tf.float32, name=None), TensorSpec(shape=(None,), dtype=tf.string, name=None), TensorSpec(shape=(None,), dtype=tf.string, name=None)), TensorSpec(shape=(None, 5), dtype=tf.float64, name=None))>,\n",
              " <_PrefetchDataset element_spec=((TensorSpec(shape=(None, 15), dtype=tf.float32, name=None), TensorSpec(shape=(None, 20), dtype=tf.float32, name=None), TensorSpec(shape=(None,), dtype=tf.string, name=None), TensorSpec(shape=(None,), dtype=tf.string, name=None)), TensorSpec(shape=(None, 5), dtype=tf.float64, name=None))>)"
            ]
          },
          "metadata": {},
          "execution_count": 113
        }
      ]
    },
    {
      "cell_type": "code",
      "source": [
        "history_Tribid_model = Tribid_model.fit(train_tribid_dataset,\n",
        "                              steps_per_epoch=int(0.1 * len(train_tribid_dataset)),\n",
        "                              epochs=3,\n",
        "                              validation_data=val_tribid_dataset,\n",
        "                              validation_steps=int(0.1 * len(val_tribid_dataset)))"
      ],
      "metadata": {
        "id": "w3ImI9ZdZDrt",
        "colab": {
          "base_uri": "https://localhost:8080/"
        },
        "outputId": "74c2cc8a-f776-48c5-e39b-10830546e440"
      },
      "execution_count": 114,
      "outputs": [
        {
          "output_type": "stream",
          "name": "stdout",
          "text": [
            "Epoch 1/3\n",
            "562/562 [==============================] - 42s 54ms/step - loss: 1.0898 - accuracy: 0.7308 - val_loss: 0.9785 - val_accuracy: 0.8045\n",
            "Epoch 2/3\n",
            "562/562 [==============================] - 28s 49ms/step - loss: 0.9636 - accuracy: 0.8173 - val_loss: 0.9490 - val_accuracy: 0.8278\n",
            "Epoch 3/3\n",
            "562/562 [==============================] - 28s 50ms/step - loss: 0.9474 - accuracy: 0.8263 - val_loss: 0.9372 - val_accuracy: 0.8354\n"
          ]
        }
      ]
    },
    {
      "cell_type": "code",
      "source": [
        "Tribid_model_predprobs = Tribid_model.predict(val_tribid_dataset, verbose=1)\n",
        "Tribid_model_predprobs"
      ],
      "metadata": {
        "id": "ErPu6mp-ZVl3",
        "colab": {
          "base_uri": "https://localhost:8080/"
        },
        "outputId": "94c8ef4d-a35e-44cf-a63f-33ff37d02aaa"
      },
      "execution_count": 115,
      "outputs": [
        {
          "output_type": "stream",
          "name": "stdout",
          "text": [
            "945/945 [==============================] - 21s 20ms/step\n"
          ]
        },
        {
          "output_type": "execute_result",
          "data": {
            "text/plain": [
              "array([[0.5079155 , 0.12471359, 0.0115228 , 0.33710137, 0.01874676],\n",
              "       [0.4934492 , 0.09863961, 0.0432223 , 0.3523115 , 0.01237739],\n",
              "       [0.2922666 , 0.10335478, 0.13651896, 0.3983179 , 0.06954167],\n",
              "       ...,\n",
              "       [0.03468942, 0.10323936, 0.03650421, 0.02982136, 0.79574573],\n",
              "       [0.03212022, 0.27028567, 0.07594233, 0.02660785, 0.59504396],\n",
              "       [0.20064594, 0.6062836 , 0.09091143, 0.04456639, 0.05759262]],\n",
              "      dtype=float32)"
            ]
          },
          "metadata": {},
          "execution_count": 115
        }
      ]
    },
    {
      "cell_type": "code",
      "source": [
        "Tribid_model_preds = tf.argmax(Tribid_model_predprobs, axis=1)\n",
        "Tribid_model_preds"
      ],
      "metadata": {
        "id": "I3jpGLj2ZgX8",
        "colab": {
          "base_uri": "https://localhost:8080/"
        },
        "outputId": "2a986587-f3e8-4e62-ff85-3126128e33a9"
      },
      "execution_count": 116,
      "outputs": [
        {
          "output_type": "execute_result",
          "data": {
            "text/plain": [
              "<tf.Tensor: shape=(30212,), dtype=int64, numpy=array([0, 0, 3, ..., 4, 4, 1])>"
            ]
          },
          "metadata": {},
          "execution_count": 116
        }
      ]
    },
    {
      "cell_type": "code",
      "source": [
        "Results_Tribid_model = calculate_results(y_true=val_labels_encoded,\n",
        "                                    y_pred=Tribid_model_preds)\n",
        "Results_Tribid_model"
      ],
      "metadata": {
        "id": "Q1A7q8h2Z36c",
        "colab": {
          "base_uri": "https://localhost:8080/"
        },
        "outputId": "b6b92e74-e933-43d1-b4ef-0011830f962d"
      },
      "execution_count": 117,
      "outputs": [
        {
          "output_type": "execute_result",
          "data": {
            "text/plain": [
              "{'accuracy': 83.49331391500067,\n",
              " 'precision': 0.8342835943722685,\n",
              " 'recall': 0.8349331391500067,\n",
              " 'f1': 0.8341655097052713}"
            ]
          },
          "metadata": {},
          "execution_count": 117
        }
      ]
    },
    {
      "cell_type": "code",
      "source": [
        "all_model_results = pd.DataFrame({\"baseline\": base_model_results,\n",
        "                                  \"token_embed_conv1d\": Results_model_1,\n",
        "                                  \"pretrained_token_embed\": Results_model_2,\n",
        "                                  \"char_embed_conv1d\": Results_model_3,\n",
        "                                  \"hybrid_embed\": Results_Hybrid_model,\n",
        "                                  \"tribrid_embed\":Results_Tribid_model })\n",
        "all_model_results = all_model_results.transpose()\n",
        "all_model_results"
      ],
      "metadata": {
        "id": "R5XPvmv8aRRR",
        "colab": {
          "base_uri": "https://localhost:8080/",
          "height": 237
        },
        "outputId": "b7b68538-5d8d-4c93-9156-0d4e5646b3f9"
      },
      "execution_count": 118,
      "outputs": [
        {
          "output_type": "execute_result",
          "data": {
            "text/plain": [
              "                         accuracy  precision    recall        f1\n",
              "baseline                72.183238   0.718647  0.721832  0.698925\n",
              "token_embed_conv1d      78.587978   0.782410  0.785880  0.783341\n",
              "pretrained_token_embed  71.286244   0.713039  0.712862  0.710037\n",
              "char_embed_conv1d       65.387925   0.644887  0.653879  0.644029\n",
              "hybrid_embed            73.417847   0.734174  0.734178  0.730666\n",
              "tribrid_embed           83.493314   0.834284  0.834933  0.834166"
            ],
            "text/html": [
              "\n",
              "  <div id=\"df-a824e598-1332-4270-8245-b46bf057f021\" class=\"colab-df-container\">\n",
              "    <div>\n",
              "<style scoped>\n",
              "    .dataframe tbody tr th:only-of-type {\n",
              "        vertical-align: middle;\n",
              "    }\n",
              "\n",
              "    .dataframe tbody tr th {\n",
              "        vertical-align: top;\n",
              "    }\n",
              "\n",
              "    .dataframe thead th {\n",
              "        text-align: right;\n",
              "    }\n",
              "</style>\n",
              "<table border=\"1\" class=\"dataframe\">\n",
              "  <thead>\n",
              "    <tr style=\"text-align: right;\">\n",
              "      <th></th>\n",
              "      <th>accuracy</th>\n",
              "      <th>precision</th>\n",
              "      <th>recall</th>\n",
              "      <th>f1</th>\n",
              "    </tr>\n",
              "  </thead>\n",
              "  <tbody>\n",
              "    <tr>\n",
              "      <th>baseline</th>\n",
              "      <td>72.183238</td>\n",
              "      <td>0.718647</td>\n",
              "      <td>0.721832</td>\n",
              "      <td>0.698925</td>\n",
              "    </tr>\n",
              "    <tr>\n",
              "      <th>token_embed_conv1d</th>\n",
              "      <td>78.587978</td>\n",
              "      <td>0.782410</td>\n",
              "      <td>0.785880</td>\n",
              "      <td>0.783341</td>\n",
              "    </tr>\n",
              "    <tr>\n",
              "      <th>pretrained_token_embed</th>\n",
              "      <td>71.286244</td>\n",
              "      <td>0.713039</td>\n",
              "      <td>0.712862</td>\n",
              "      <td>0.710037</td>\n",
              "    </tr>\n",
              "    <tr>\n",
              "      <th>char_embed_conv1d</th>\n",
              "      <td>65.387925</td>\n",
              "      <td>0.644887</td>\n",
              "      <td>0.653879</td>\n",
              "      <td>0.644029</td>\n",
              "    </tr>\n",
              "    <tr>\n",
              "      <th>hybrid_embed</th>\n",
              "      <td>73.417847</td>\n",
              "      <td>0.734174</td>\n",
              "      <td>0.734178</td>\n",
              "      <td>0.730666</td>\n",
              "    </tr>\n",
              "    <tr>\n",
              "      <th>tribrid_embed</th>\n",
              "      <td>83.493314</td>\n",
              "      <td>0.834284</td>\n",
              "      <td>0.834933</td>\n",
              "      <td>0.834166</td>\n",
              "    </tr>\n",
              "  </tbody>\n",
              "</table>\n",
              "</div>\n",
              "    <div class=\"colab-df-buttons\">\n",
              "\n",
              "  <div class=\"colab-df-container\">\n",
              "    <button class=\"colab-df-convert\" onclick=\"convertToInteractive('df-a824e598-1332-4270-8245-b46bf057f021')\"\n",
              "            title=\"Convert this dataframe to an interactive table.\"\n",
              "            style=\"display:none;\">\n",
              "\n",
              "  <svg xmlns=\"http://www.w3.org/2000/svg\" height=\"24px\" viewBox=\"0 -960 960 960\">\n",
              "    <path d=\"M120-120v-720h720v720H120Zm60-500h600v-160H180v160Zm220 220h160v-160H400v160Zm0 220h160v-160H400v160ZM180-400h160v-160H180v160Zm440 0h160v-160H620v160ZM180-180h160v-160H180v160Zm440 0h160v-160H620v160Z\"/>\n",
              "  </svg>\n",
              "    </button>\n",
              "\n",
              "  <style>\n",
              "    .colab-df-container {\n",
              "      display:flex;\n",
              "      gap: 12px;\n",
              "    }\n",
              "\n",
              "    .colab-df-convert {\n",
              "      background-color: #E8F0FE;\n",
              "      border: none;\n",
              "      border-radius: 50%;\n",
              "      cursor: pointer;\n",
              "      display: none;\n",
              "      fill: #1967D2;\n",
              "      height: 32px;\n",
              "      padding: 0 0 0 0;\n",
              "      width: 32px;\n",
              "    }\n",
              "\n",
              "    .colab-df-convert:hover {\n",
              "      background-color: #E2EBFA;\n",
              "      box-shadow: 0px 1px 2px rgba(60, 64, 67, 0.3), 0px 1px 3px 1px rgba(60, 64, 67, 0.15);\n",
              "      fill: #174EA6;\n",
              "    }\n",
              "\n",
              "    .colab-df-buttons div {\n",
              "      margin-bottom: 4px;\n",
              "    }\n",
              "\n",
              "    [theme=dark] .colab-df-convert {\n",
              "      background-color: #3B4455;\n",
              "      fill: #D2E3FC;\n",
              "    }\n",
              "\n",
              "    [theme=dark] .colab-df-convert:hover {\n",
              "      background-color: #434B5C;\n",
              "      box-shadow: 0px 1px 3px 1px rgba(0, 0, 0, 0.15);\n",
              "      filter: drop-shadow(0px 1px 2px rgba(0, 0, 0, 0.3));\n",
              "      fill: #FFFFFF;\n",
              "    }\n",
              "  </style>\n",
              "\n",
              "    <script>\n",
              "      const buttonEl =\n",
              "        document.querySelector('#df-a824e598-1332-4270-8245-b46bf057f021 button.colab-df-convert');\n",
              "      buttonEl.style.display =\n",
              "        google.colab.kernel.accessAllowed ? 'block' : 'none';\n",
              "\n",
              "      async function convertToInteractive(key) {\n",
              "        const element = document.querySelector('#df-a824e598-1332-4270-8245-b46bf057f021');\n",
              "        const dataTable =\n",
              "          await google.colab.kernel.invokeFunction('convertToInteractive',\n",
              "                                                    [key], {});\n",
              "        if (!dataTable) return;\n",
              "\n",
              "        const docLinkHtml = 'Like what you see? Visit the ' +\n",
              "          '<a target=\"_blank\" href=https://colab.research.google.com/notebooks/data_table.ipynb>data table notebook</a>'\n",
              "          + ' to learn more about interactive tables.';\n",
              "        element.innerHTML = '';\n",
              "        dataTable['output_type'] = 'display_data';\n",
              "        await google.colab.output.renderOutput(dataTable, element);\n",
              "        const docLink = document.createElement('div');\n",
              "        docLink.innerHTML = docLinkHtml;\n",
              "        element.appendChild(docLink);\n",
              "      }\n",
              "    </script>\n",
              "  </div>\n",
              "\n",
              "\n",
              "<div id=\"df-d83a34e7-7702-461f-b63e-7b413d1acceb\">\n",
              "  <button class=\"colab-df-quickchart\" onclick=\"quickchart('df-d83a34e7-7702-461f-b63e-7b413d1acceb')\"\n",
              "            title=\"Suggest charts\"\n",
              "            style=\"display:none;\">\n",
              "\n",
              "<svg xmlns=\"http://www.w3.org/2000/svg\" height=\"24px\"viewBox=\"0 0 24 24\"\n",
              "     width=\"24px\">\n",
              "    <g>\n",
              "        <path d=\"M19 3H5c-1.1 0-2 .9-2 2v14c0 1.1.9 2 2 2h14c1.1 0 2-.9 2-2V5c0-1.1-.9-2-2-2zM9 17H7v-7h2v7zm4 0h-2V7h2v10zm4 0h-2v-4h2v4z\"/>\n",
              "    </g>\n",
              "</svg>\n",
              "  </button>\n",
              "\n",
              "<style>\n",
              "  .colab-df-quickchart {\n",
              "      --bg-color: #E8F0FE;\n",
              "      --fill-color: #1967D2;\n",
              "      --hover-bg-color: #E2EBFA;\n",
              "      --hover-fill-color: #174EA6;\n",
              "      --disabled-fill-color: #AAA;\n",
              "      --disabled-bg-color: #DDD;\n",
              "  }\n",
              "\n",
              "  [theme=dark] .colab-df-quickchart {\n",
              "      --bg-color: #3B4455;\n",
              "      --fill-color: #D2E3FC;\n",
              "      --hover-bg-color: #434B5C;\n",
              "      --hover-fill-color: #FFFFFF;\n",
              "      --disabled-bg-color: #3B4455;\n",
              "      --disabled-fill-color: #666;\n",
              "  }\n",
              "\n",
              "  .colab-df-quickchart {\n",
              "    background-color: var(--bg-color);\n",
              "    border: none;\n",
              "    border-radius: 50%;\n",
              "    cursor: pointer;\n",
              "    display: none;\n",
              "    fill: var(--fill-color);\n",
              "    height: 32px;\n",
              "    padding: 0;\n",
              "    width: 32px;\n",
              "  }\n",
              "\n",
              "  .colab-df-quickchart:hover {\n",
              "    background-color: var(--hover-bg-color);\n",
              "    box-shadow: 0 1px 2px rgba(60, 64, 67, 0.3), 0 1px 3px 1px rgba(60, 64, 67, 0.15);\n",
              "    fill: var(--button-hover-fill-color);\n",
              "  }\n",
              "\n",
              "  .colab-df-quickchart-complete:disabled,\n",
              "  .colab-df-quickchart-complete:disabled:hover {\n",
              "    background-color: var(--disabled-bg-color);\n",
              "    fill: var(--disabled-fill-color);\n",
              "    box-shadow: none;\n",
              "  }\n",
              "\n",
              "  .colab-df-spinner {\n",
              "    border: 2px solid var(--fill-color);\n",
              "    border-color: transparent;\n",
              "    border-bottom-color: var(--fill-color);\n",
              "    animation:\n",
              "      spin 1s steps(1) infinite;\n",
              "  }\n",
              "\n",
              "  @keyframes spin {\n",
              "    0% {\n",
              "      border-color: transparent;\n",
              "      border-bottom-color: var(--fill-color);\n",
              "      border-left-color: var(--fill-color);\n",
              "    }\n",
              "    20% {\n",
              "      border-color: transparent;\n",
              "      border-left-color: var(--fill-color);\n",
              "      border-top-color: var(--fill-color);\n",
              "    }\n",
              "    30% {\n",
              "      border-color: transparent;\n",
              "      border-left-color: var(--fill-color);\n",
              "      border-top-color: var(--fill-color);\n",
              "      border-right-color: var(--fill-color);\n",
              "    }\n",
              "    40% {\n",
              "      border-color: transparent;\n",
              "      border-right-color: var(--fill-color);\n",
              "      border-top-color: var(--fill-color);\n",
              "    }\n",
              "    60% {\n",
              "      border-color: transparent;\n",
              "      border-right-color: var(--fill-color);\n",
              "    }\n",
              "    80% {\n",
              "      border-color: transparent;\n",
              "      border-right-color: var(--fill-color);\n",
              "      border-bottom-color: var(--fill-color);\n",
              "    }\n",
              "    90% {\n",
              "      border-color: transparent;\n",
              "      border-bottom-color: var(--fill-color);\n",
              "    }\n",
              "  }\n",
              "</style>\n",
              "\n",
              "  <script>\n",
              "    async function quickchart(key) {\n",
              "      const quickchartButtonEl =\n",
              "        document.querySelector('#' + key + ' button');\n",
              "      quickchartButtonEl.disabled = true;  // To prevent multiple clicks.\n",
              "      quickchartButtonEl.classList.add('colab-df-spinner');\n",
              "      try {\n",
              "        const charts = await google.colab.kernel.invokeFunction(\n",
              "            'suggestCharts', [key], {});\n",
              "      } catch (error) {\n",
              "        console.error('Error during call to suggestCharts:', error);\n",
              "      }\n",
              "      quickchartButtonEl.classList.remove('colab-df-spinner');\n",
              "      quickchartButtonEl.classList.add('colab-df-quickchart-complete');\n",
              "    }\n",
              "    (() => {\n",
              "      let quickchartButtonEl =\n",
              "        document.querySelector('#df-d83a34e7-7702-461f-b63e-7b413d1acceb button');\n",
              "      quickchartButtonEl.style.display =\n",
              "        google.colab.kernel.accessAllowed ? 'block' : 'none';\n",
              "    })();\n",
              "  </script>\n",
              "</div>\n",
              "\n",
              "  <div id=\"id_57e3a7bc-a5de-47ed-aa3e-1f19e966c2a8\">\n",
              "    <style>\n",
              "      .colab-df-generate {\n",
              "        background-color: #E8F0FE;\n",
              "        border: none;\n",
              "        border-radius: 50%;\n",
              "        cursor: pointer;\n",
              "        display: none;\n",
              "        fill: #1967D2;\n",
              "        height: 32px;\n",
              "        padding: 0 0 0 0;\n",
              "        width: 32px;\n",
              "      }\n",
              "\n",
              "      .colab-df-generate:hover {\n",
              "        background-color: #E2EBFA;\n",
              "        box-shadow: 0px 1px 2px rgba(60, 64, 67, 0.3), 0px 1px 3px 1px rgba(60, 64, 67, 0.15);\n",
              "        fill: #174EA6;\n",
              "      }\n",
              "\n",
              "      [theme=dark] .colab-df-generate {\n",
              "        background-color: #3B4455;\n",
              "        fill: #D2E3FC;\n",
              "      }\n",
              "\n",
              "      [theme=dark] .colab-df-generate:hover {\n",
              "        background-color: #434B5C;\n",
              "        box-shadow: 0px 1px 3px 1px rgba(0, 0, 0, 0.15);\n",
              "        filter: drop-shadow(0px 1px 2px rgba(0, 0, 0, 0.3));\n",
              "        fill: #FFFFFF;\n",
              "      }\n",
              "    </style>\n",
              "    <button class=\"colab-df-generate\" onclick=\"generateWithVariable('all_model_results')\"\n",
              "            title=\"Generate code using this dataframe.\"\n",
              "            style=\"display:none;\">\n",
              "\n",
              "  <svg xmlns=\"http://www.w3.org/2000/svg\" height=\"24px\"viewBox=\"0 0 24 24\"\n",
              "       width=\"24px\">\n",
              "    <path d=\"M7,19H8.4L18.45,9,17,7.55,7,17.6ZM5,21V16.75L18.45,3.32a2,2,0,0,1,2.83,0l1.4,1.43a1.91,1.91,0,0,1,.58,1.4,1.91,1.91,0,0,1-.58,1.4L9.25,21ZM18.45,9,17,7.55Zm-12,3A5.31,5.31,0,0,0,4.9,8.1,5.31,5.31,0,0,0,1,6.5,5.31,5.31,0,0,0,4.9,4.9,5.31,5.31,0,0,0,6.5,1,5.31,5.31,0,0,0,8.1,4.9,5.31,5.31,0,0,0,12,6.5,5.46,5.46,0,0,0,6.5,12Z\"/>\n",
              "  </svg>\n",
              "    </button>\n",
              "    <script>\n",
              "      (() => {\n",
              "      const buttonEl =\n",
              "        document.querySelector('#id_57e3a7bc-a5de-47ed-aa3e-1f19e966c2a8 button.colab-df-generate');\n",
              "      buttonEl.style.display =\n",
              "        google.colab.kernel.accessAllowed ? 'block' : 'none';\n",
              "\n",
              "      buttonEl.onclick = () => {\n",
              "        google.colab.notebook.generateWithVariable('all_model_results');\n",
              "      }\n",
              "      })();\n",
              "    </script>\n",
              "  </div>\n",
              "\n",
              "    </div>\n",
              "  </div>\n"
            ]
          },
          "metadata": {},
          "execution_count": 118
        }
      ]
    },
    {
      "cell_type": "code",
      "source": [
        "all_model_results[\"accuracy\"] = all_model_results[\"accuracy\"]/100\n",
        "all_model_results.plot(kind=\"bar\", figsize=(10, 7)).legend(bbox_to_anchor=(1.0, 1.0));"
      ],
      "metadata": {
        "id": "aRBXj_g3bVv4",
        "colab": {
          "base_uri": "https://localhost:8080/",
          "height": 759
        },
        "outputId": "43627d42-4230-4c50-eabc-6e3f72e1d310"
      },
      "execution_count": 119,
      "outputs": [
        {
          "output_type": "display_data",
          "data": {
            "text/plain": [
              "<Figure size 1000x700 with 1 Axes>"
            ],
            "image/png": "[encoded data removed]"
          },
          "metadata": {}
        }
      ]
    },
    {
      "cell_type": "code",
      "source": [
        "all_model_results.sort_values(\"f1\", ascending=False)[\"f1\"].plot(kind=\"bar\", figsize=(10, 7));"
      ],
      "metadata": {
        "id": "32Vd5tjabiEz",
        "colab": {
          "base_uri": "https://localhost:8080/",
          "height": 759
        },
        "outputId": "b6f53853-0911-4b25-d913-0aa7b8fbfee1"
      },
      "execution_count": 120,
      "outputs": [
        {
          "output_type": "display_data",
          "data": {
            "text/plain": [
              "<Figure size 1000x700 with 1 Axes>"
            ],
            "image/png": "[encoded data removed]"
          },
          "metadata": {}
        }
      ]
    },
    {
      "cell_type": "markdown",
      "source": [
        "## Save and load best performing model"
      ],
      "metadata": {
        "id": "KhtT0qYfb0gh"
      }
    },
    {
      "cell_type": "code",
      "source": [
        "Tribid_model.save(\"Tribid_Model\")"
      ],
      "metadata": {
        "id": "apYhm-lIbv3R"
      },
      "execution_count": 121,
      "outputs": []
    },
    {
      "cell_type": "code",
      "source": [
        "loaded_model = tf.keras.models.load_model(\"/content/Tribid_Model\")"
      ],
      "metadata": {
        "id": "_6Y-xS_6E86s"
      },
      "execution_count": 122,
      "outputs": []
    },
    {
      "cell_type": "code",
      "source": [
        "loaded_predprobs = loaded_model.predict(val_tribid_dataset)\n",
        "loaded_preds = tf.argmax(loaded_predprobs, axis = 1)\n",
        "loaded_preds[:10]"
      ],
      "metadata": {
        "colab": {
          "base_uri": "https://localhost:8080/"
        },
        "id": "SWN2liuJgr7U",
        "outputId": "7870c01c-67df-45c3-adaf-8ba5af099e13"
      },
      "execution_count": 123,
      "outputs": [
        {
          "output_type": "stream",
          "name": "stdout",
          "text": [
            "945/945 [==============================] - 23s 21ms/step\n"
          ]
        },
        {
          "output_type": "execute_result",
          "data": {
            "text/plain": [
              "<tf.Tensor: shape=(10,), dtype=int64, numpy=array([0, 0, 3, 2, 2, 4, 4, 4, 4, 1])>"
            ]
          },
          "metadata": {},
          "execution_count": 123
        }
      ]
    },
    {
      "cell_type": "code",
      "source": [
        "loaded_model_results = calculate_results(y_true= val_labels_encoded,\n",
        "                                         y_pred= loaded_preds)\n",
        "loaded_model_results"
      ],
      "metadata": {
        "colab": {
          "base_uri": "https://localhost:8080/"
        },
        "id": "pJJNagWyi_of",
        "outputId": "22308e8e-980a-4f1b-c90e-1ba7ff39f317"
      },
      "execution_count": 124,
      "outputs": [
        {
          "output_type": "execute_result",
          "data": {
            "text/plain": [
              "{'accuracy': 83.49331391500067,\n",
              " 'precision': 0.8342835943722685,\n",
              " 'recall': 0.8349331391500067,\n",
              " 'f1': 0.8341655097052713}"
            ]
          },
          "metadata": {},
          "execution_count": 124
        }
      ]
    },
    {
      "cell_type": "code",
      "source": [
        "loaded_model.summary()"
      ],
      "metadata": {
        "colab": {
          "base_uri": "https://localhost:8080/"
        },
        "id": "tSbuaH4qSaaI",
        "outputId": "7d16c3b0-1101-42a1-c5c3-38d16c3d033e"
      },
      "execution_count": 125,
      "outputs": [
        {
          "output_type": "stream",
          "name": "stdout",
          "text": [
            "Model: \"Tribid_model\"\n",
            "__________________________________________________________________________________________________\n",
            " Layer (type)                Output Shape                 Param #   Connected to                  \n",
            "==================================================================================================\n",
            " input_6 (InputLayer)        [(None, 1)]                  0         []                            \n",
            "                                                                                                  \n",
            " inputs_token (InputLayer)   [(None,)]                    0         []                            \n",
            "                                                                                                  \n",
            " character_tokenizer (TextV  (None, 290)                  0         ['input_6[0][0]']             \n",
            " ectorization)                                                                                    \n",
            "                                                                                                  \n",
            " universal_sentence_encoder  (None, 512)                  2567978   ['inputs_token[0][0]']        \n",
            "  (KerasLayer)                                            24                                      \n",
            "                                                                                                  \n",
            " embedding_1 (Embedding)     (None, 290, 25)              700       ['character_tokenizer[0][0]'] \n",
            "                                                                                                  \n",
            " dense_7 (Dense)             (None, 128)                  65664     ['universal_sentence_encoder[0\n",
            "                                                                    ][0]']                        \n",
            "                                                                                                  \n",
            " bidirectional_1 (Bidirecti  (None, 50)                   10200     ['embedding_1[0][0]']         \n",
            " onal)                                                                                            \n",
            "                                                                                                  \n",
            " token_char_embeddings (Con  (None, 178)                  0         ['dense_7[0][0]',             \n",
            " catenate)                                                           'bidirectional_1[0][0]']     \n",
            "                                                                                                  \n",
            " input_ln (InputLayer)       [(None, 15)]                 0         []                            \n",
            "                                                                                                  \n",
            " input_total_line (InputLay  [(None, 20)]                 0         []                            \n",
            " er)                                                                                              \n",
            "                                                                                                  \n",
            " dense_10 (Dense)            (None, 256)                  45824     ['token_char_embeddings[0][0]'\n",
            "                                                                    ]                             \n",
            "                                                                                                  \n",
            " dense_8 (Dense)             (None, 32)                   512       ['input_ln[0][0]']            \n",
            "                                                                                                  \n",
            " dense_9 (Dense)             (None, 32)                   672       ['input_total_line[0][0]']    \n",
            "                                                                                                  \n",
            " dropout_2 (Dropout)         (None, 256)                  0         ['dense_10[0][0]']            \n",
            "                                                                                                  \n",
            " token_char_positional_embe  (None, 320)                  0         ['dense_8[0][0]',             \n",
            " dding (Concatenate)                                                 'dense_9[0][0]',             \n",
            "                                                                     'dropout_2[0][0]']           \n",
            "                                                                                                  \n",
            " output (Dense)              (None, 5)                    1605      ['token_char_positional_embedd\n",
            "                                                                    ing[0][0]']                   \n",
            "                                                                                                  \n",
            "==================================================================================================\n",
            "Total params: 256923001 (980.08 MB)\n",
            "Trainable params: 125177 (488.97 KB)\n",
            "Non-trainable params: 256797824 (979.61 MB)\n",
            "__________________________________________________________________________________________________\n"
          ]
        }
      ]
    },
    {
      "cell_type": "markdown",
      "source": [
        "## Evaluating best model on test data"
      ],
      "metadata": {
        "id": "3oB0uXyonTr2"
      }
    },
    {
      "cell_type": "code",
      "source": [
        "test_tribid_data = tf.data.Dataset.from_tensor_slices((test_ln_one_hot, test_total_ln_one_hot, test_sentences, test_characters))\n",
        "test_tribid_labels = tf.data.Dataset.from_tensor_slices(test_labels_one_hot)\n",
        "test_tribid_dataset = tf.data.Dataset.zip((test_tribid_data, test_tribid_labels))\n",
        "test_tribid_dataset = test_tribid_dataset.batch(32).prefetch(tf.data.AUTOTUNE)"
      ],
      "metadata": {
        "id": "5VVgvQwKSxV8"
      },
      "execution_count": 126,
      "outputs": []
    },
    {
      "cell_type": "code",
      "source": [
        "loaded_predprobs_test = loaded_model.predict(test_tribid_dataset)\n",
        "loaded_preds_test = tf.argmax(loaded_predprobs_test, axis = 1)\n",
        "loaded_preds_test[:10]\n"
      ],
      "metadata": {
        "colab": {
          "base_uri": "https://localhost:8080/"
        },
        "id": "PxBu6rjxm_oM",
        "outputId": "d2aa5085-2c99-4931-c6f8-15a495b6dd4c"
      },
      "execution_count": 127,
      "outputs": [
        {
          "output_type": "stream",
          "name": "stdout",
          "text": [
            "942/942 [==============================] - 19s 20ms/step\n"
          ]
        },
        {
          "output_type": "execute_result",
          "data": {
            "text/plain": [
              "<tf.Tensor: shape=(10,), dtype=int64, numpy=array([3, 0, 2, 2, 4, 4, 4, 1, 4, 0])>"
            ]
          },
          "metadata": {},
          "execution_count": 127
        }
      ]
    },
    {
      "cell_type": "code",
      "source": [
        "loaded_model_results_test = calculate_results(y_true= test_labels_encoded,\n",
        "                                              y_pred= loaded_preds_test)\n",
        "loaded_model_results_test"
      ],
      "metadata": {
        "colab": {
          "base_uri": "https://localhost:8080/"
        },
        "id": "B_VfEBtvnNMZ",
        "outputId": "c40e4df7-78a4-40ab-f99e-c9af8e680bc1"
      },
      "execution_count": 128,
      "outputs": [
        {
          "output_type": "execute_result",
          "data": {
            "text/plain": [
              "{'accuracy': 82.89696366351419,\n",
              " 'precision': 0.8279822560032326,\n",
              " 'recall': 0.8289696366351419,\n",
              " 'f1': 0.8281007521925303}"
            ]
          },
          "metadata": {},
          "execution_count": 128
        }
      ]
    }
  ],
  "metadata": {
    "accelerator": "GPU",
    "colab": {
      "provenance": [],
      "gpuType": "T4",
      "toc_visible": true,
      "mount_file_id": "13piQsi5foau8EuziK8RqZvJZMOQ1eNHL",
      "authorship_tag": "ABX9TyMQAFGDRdA8gtvcDcSLI721",
      "include_colab_link": true
    },
    "kernelspec": {
      "display_name": "Python 3",
      "name": "python3"
    },
    "language_info": {
      "name": "python"
    }
  },
  "nbformat": 4,
  "nbformat_minor": 0
}